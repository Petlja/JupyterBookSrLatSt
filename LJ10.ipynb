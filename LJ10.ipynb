{
 "cells": [
  {
   "cell_type": "markdown",
   "metadata": {},
   "source": [
    "# 10. Džupajter i Eksel\n",
    "\n",
    "U ovoj lekciji ćemo govoriti o:\n",
    "1. odnosu Džupajtera i Eksela;\n",
    "2. o učitavanju podataka iz Eksel datoteke; i\n",
    "3. o upisivanju podataka u Eksel datoteku."
   ]
  },
  {
   "cell_type": "markdown",
   "metadata": {},
   "source": [
    "## 10.1. Zašto Džupajter, a zašto Eksel\n",
    "\n",
    "Majkrosoftov Eksel (_Microsoft Excel_) predstavlja jedan od najrasprostranjenijih softverskih proizvoda za obradu tabelarno predstavljenih podataka. Eksel svoju popularnost duguje tome što je tabela u koju se unose podaci \"opipljiva\", ona je tu, korisnik može samo da klikne na polje i da unese podatak ili formulu. Prirodno se nameće pitanje zašto ovaj kurs nije organizovan oko Eksela. Razloga ima mnogo, a navešćemo nekoliko najvažnijih.\n",
    "\n",
    "* _Cena._ Za razliku od Eksela koji je komercijalni proizvod i koji mora da se kupi da bi mogao legalno da se koristi, Pajton, sve njegove biblioteke i Džupajter (kao radno okruženje za Pajton) su _besplatni_. Svako može bez ikakve naknade da instalira Pajton i Džupajter i da ih koristi za lične potrebe i za obrazovne potrebe.\n",
    "\n",
    "* _Obrada podataka putem jasno vidljive procedure._ U ćelije Eksel tabele se, pored teksta i brojeva, mogu uneti i formule. Na taj način se u Ekselu može postići sve o čemu smo mi ovde pisali. Problem sa ovakvim pristupom nastaje kada pokušavamo da shvatimo _šta_ tabela u koju je neko već uneo formule radi i _kako_ to ona radi. U velikim tabelama nije lako ustanoviti koja formula zavisi od koje ćelije i, uopšte, kojim redom će se formule izračunavati. Dakle, lako je podeliti sa saradnicima Eksel tabelu koja će odraditi posao, ali nije lako podeliti sa saradnicima _proces_ koji ta tabela implementira. S druge strane, ako su podaci obrađeni upotrebom nekog skript-jezika kao što je Pajton, iz samog programa (_i komentara u njemu!_) se može rekonstruisati proces obrade podataka. Na taj način saradnici na projektu mogu da provere proces obrade podataka i tako lakše uoče eventualne greške u proceduri obrade podataka. Osim toga, ako je potrebno izvršiti novi račun koji je sličan postojećem lakše je prilagoditi eksplicitan kod.\n",
    "\n",
    "* _Fleksibilnost._ Pajton dolazi sa veoma velikim brojem biblioteka koje su razvijane za potrebe efikasne obrade velikih količina podataka. Sve te biblioteke su dostupne iz Džupajtera. Ako se za koju godinu pojavi neka nova biblioteka koja nudi nove mogućnosti, možemo je lako i brzo uvesti u Džupajter i koristiti. Za razliku od Pajtona, nove funkcionalnosti Eksela se ne distribuiraju kroz biblioteke funkcija (koje se lako dodaju sistemu), već svaka nova funkcionalnost iziskuje instalaciju nove verzije celog programa.\n",
    "\n",
    "\n",
    "Obrada podataka putem jasno navedenih kratkih programa (koji nisu deo tabele!) predstavlja najfleksibilniji način obrade podataka i predstavlja okosnicu svakog ozbiljnog sistema za obradu podataka. _Zato je važno da se svi sretnemo sa programiranjem, čak iako ne planiramo svi da budemo programeri!_"
   ]
  },
  {
   "cell_type": "markdown",
   "metadata": {},
   "source": [
    "## 10.2. Učitavanje podataka iz lokalnih Eksel datoteka\n",
    "\n",
    "Majkrosoftov Eksel (_Microsoft Excel_) predstavlja jedan od najrasprostranjenijih softverskih proizvoda za obradu tabelarno predstavljenih podataka. Biblioteka _pandas_ zato ima funkciju koja može da učita podatke predstavljene Eksel tabelom.\n",
    "\n",
    "Struktura Eksel dokumenta je relativno složena jer u jednom dokumentu može da se nalazi više tabela. Jedan Eksel dokument se, zato, sastoji iz nekoliko _radnih listova_ (engl. _work sheets_):\n",
    "\n",
    "![Radni listovi](slike/Excel.jpg)\n",
    "\n",
    "pa funkciji za učitavanje Eksel tabele pored imena datoteke treba dati i ime radnog lista sa koga se učitava tabela. Ukoliko se ne navede ime radnog lista funkcija će učitati tabelu iz prvog radnog lista na koji naiđe. Ovo obično koristimo samo u situacijama kada smo sigurni da Eksel radna sveska ima samo jedan radni list.\n",
    "\n",
    "Sada ćemo iz datoteke _Aditivi.xlsx_ koja se nalazi u folderu _podaci_ učitati tabelu iz (jedinog) radnog lista \"Aditivi\":"
   ]
  },
  {
   "cell_type": "code",
   "execution_count": 1,
   "metadata": {},
   "outputs": [],
   "source": [
    "import pandas as pd\n",
    "aditivi = pd.read_excel(\"podaci/Aditivi.xlsx\", sheet_name=\"Aditivi\")"
   ]
  },
  {
   "cell_type": "markdown",
   "metadata": {},
   "source": [
    "Ova datoteka sadrži podatke o aditivima, što su supstance koje se koriste u industriji. Neki od njih se koriste i u industriji hrane. (Podaci su preuzeti iz udžbenika biologije za 8. razred.)\n",
    "\n",
    "Evo prvih nekoliko redova tabele:"
   ]
  },
  {
   "cell_type": "code",
   "execution_count": 2,
   "metadata": {},
   "outputs": [
    {
     "data": {
      "text/html": [
       "<div>\n",
       "<style scoped>\n",
       "    .dataframe tbody tr th:only-of-type {\n",
       "        vertical-align: middle;\n",
       "    }\n",
       "\n",
       "    .dataframe tbody tr th {\n",
       "        vertical-align: top;\n",
       "    }\n",
       "\n",
       "    .dataframe thead th {\n",
       "        text-align: right;\n",
       "    }\n",
       "</style>\n",
       "<table border=\"1\" class=\"dataframe\">\n",
       "  <thead>\n",
       "    <tr style=\"text-align: right;\">\n",
       "      <th></th>\n",
       "      <th>Aditiv (E-broj)</th>\n",
       "      <th>Štetnost</th>\n",
       "      <th>Napomena</th>\n",
       "    </tr>\n",
       "  </thead>\n",
       "  <tbody>\n",
       "    <tr>\n",
       "      <th>0</th>\n",
       "      <td>100</td>\n",
       "      <td>bezopasan</td>\n",
       "      <td>NaN</td>\n",
       "    </tr>\n",
       "    <tr>\n",
       "      <th>1</th>\n",
       "      <td>101</td>\n",
       "      <td>bezopasan</td>\n",
       "      <td>NaN</td>\n",
       "    </tr>\n",
       "    <tr>\n",
       "      <th>2</th>\n",
       "      <td>102</td>\n",
       "      <td>IZUZETNO OPASAN</td>\n",
       "      <td>NaN</td>\n",
       "    </tr>\n",
       "    <tr>\n",
       "      <th>3</th>\n",
       "      <td>104</td>\n",
       "      <td>bezopasan</td>\n",
       "      <td>NaN</td>\n",
       "    </tr>\n",
       "    <tr>\n",
       "      <th>4</th>\n",
       "      <td>105</td>\n",
       "      <td>bezopasan</td>\n",
       "      <td>NaN</td>\n",
       "    </tr>\n",
       "    <tr>\n",
       "      <th>5</th>\n",
       "      <td>110</td>\n",
       "      <td>IZUZETNO OPASAN</td>\n",
       "      <td>NaN</td>\n",
       "    </tr>\n",
       "    <tr>\n",
       "      <th>6</th>\n",
       "      <td>111</td>\n",
       "      <td>bezopasan</td>\n",
       "      <td>NaN</td>\n",
       "    </tr>\n",
       "    <tr>\n",
       "      <th>7</th>\n",
       "      <td>120</td>\n",
       "      <td>IZUZETNO OPASAN</td>\n",
       "      <td>NaN</td>\n",
       "    </tr>\n",
       "    <tr>\n",
       "      <th>8</th>\n",
       "      <td>121</td>\n",
       "      <td>bezopasan</td>\n",
       "      <td>NaN</td>\n",
       "    </tr>\n",
       "    <tr>\n",
       "      <th>9</th>\n",
       "      <td>123</td>\n",
       "      <td>IZUZETNO OPASAN</td>\n",
       "      <td>NaN</td>\n",
       "    </tr>\n",
       "    <tr>\n",
       "      <th>10</th>\n",
       "      <td>124</td>\n",
       "      <td>IZUZETNO OPASAN</td>\n",
       "      <td>NaN</td>\n",
       "    </tr>\n",
       "    <tr>\n",
       "      <th>11</th>\n",
       "      <td>125</td>\n",
       "      <td>ispitivanja u toku</td>\n",
       "      <td>NaN</td>\n",
       "    </tr>\n",
       "    <tr>\n",
       "      <th>12</th>\n",
       "      <td>130</td>\n",
       "      <td>bezopasan</td>\n",
       "      <td>NaN</td>\n",
       "    </tr>\n",
       "    <tr>\n",
       "      <th>13</th>\n",
       "      <td>131</td>\n",
       "      <td>štetan</td>\n",
       "      <td>može izazvati rak</td>\n",
       "    </tr>\n",
       "    <tr>\n",
       "      <th>14</th>\n",
       "      <td>132</td>\n",
       "      <td>bezopasan</td>\n",
       "      <td>NaN</td>\n",
       "    </tr>\n",
       "  </tbody>\n",
       "</table>\n",
       "</div>"
      ],
      "text/plain": [
       "    Aditiv (E-broj)            Štetnost           Napomena\n",
       "0               100           bezopasan                NaN\n",
       "1               101           bezopasan                NaN\n",
       "2               102     IZUZETNO OPASAN                NaN\n",
       "3               104           bezopasan                NaN\n",
       "4               105           bezopasan                NaN\n",
       "5               110     IZUZETNO OPASAN                NaN\n",
       "6               111           bezopasan                NaN\n",
       "7               120     IZUZETNO OPASAN                NaN\n",
       "8               121           bezopasan                NaN\n",
       "9               123     IZUZETNO OPASAN                NaN\n",
       "10              124     IZUZETNO OPASAN                NaN\n",
       "11              125  ispitivanja u toku                NaN\n",
       "12              130           bezopasan                NaN\n",
       "13              131              štetan  može izazvati rak\n",
       "14              132           bezopasan                NaN"
      ]
     },
     "execution_count": 2,
     "metadata": {},
     "output_type": "execute_result"
    }
   ],
   "source": [
    "aditivi.head(15)"
   ]
  },
  {
   "cell_type": "markdown",
   "metadata": {},
   "source": [
    "Vidimo da su ćelije koje su bile prazne u Eksel tabeli ovde dobile specijalnu vrednost _NaN_ što je skraćenica od _not a number_ (engl. \"nije broj\"). Ovo je specijalna vrednost koja se koristi da se otkriju potencijalne greške koje mogu da nastanu prilikom učitavanja velikih tabela. U našem slučaju prazne ćelije u koloni \"Napomena\" i treba da ostanu prazne, pa ćemo tabelu učitati ponovo, s tim da ćemo \"zamoliti Pajton da isključi veštačku inteligenciju\":"
   ]
  },
  {
   "cell_type": "code",
   "execution_count": 3,
   "metadata": {},
   "outputs": [
    {
     "data": {
      "text/html": [
       "<div>\n",
       "<style scoped>\n",
       "    .dataframe tbody tr th:only-of-type {\n",
       "        vertical-align: middle;\n",
       "    }\n",
       "\n",
       "    .dataframe tbody tr th {\n",
       "        vertical-align: top;\n",
       "    }\n",
       "\n",
       "    .dataframe thead th {\n",
       "        text-align: right;\n",
       "    }\n",
       "</style>\n",
       "<table border=\"1\" class=\"dataframe\">\n",
       "  <thead>\n",
       "    <tr style=\"text-align: right;\">\n",
       "      <th></th>\n",
       "      <th>Aditiv (E-broj)</th>\n",
       "      <th>Štetnost</th>\n",
       "      <th>Napomena</th>\n",
       "    </tr>\n",
       "  </thead>\n",
       "  <tbody>\n",
       "    <tr>\n",
       "      <th>0</th>\n",
       "      <td>100</td>\n",
       "      <td>bezopasan</td>\n",
       "      <td></td>\n",
       "    </tr>\n",
       "    <tr>\n",
       "      <th>1</th>\n",
       "      <td>101</td>\n",
       "      <td>bezopasan</td>\n",
       "      <td></td>\n",
       "    </tr>\n",
       "    <tr>\n",
       "      <th>2</th>\n",
       "      <td>102</td>\n",
       "      <td>IZUZETNO OPASAN</td>\n",
       "      <td></td>\n",
       "    </tr>\n",
       "    <tr>\n",
       "      <th>3</th>\n",
       "      <td>104</td>\n",
       "      <td>bezopasan</td>\n",
       "      <td></td>\n",
       "    </tr>\n",
       "    <tr>\n",
       "      <th>4</th>\n",
       "      <td>105</td>\n",
       "      <td>bezopasan</td>\n",
       "      <td></td>\n",
       "    </tr>\n",
       "    <tr>\n",
       "      <th>5</th>\n",
       "      <td>110</td>\n",
       "      <td>IZUZETNO OPASAN</td>\n",
       "      <td></td>\n",
       "    </tr>\n",
       "    <tr>\n",
       "      <th>6</th>\n",
       "      <td>111</td>\n",
       "      <td>bezopasan</td>\n",
       "      <td></td>\n",
       "    </tr>\n",
       "    <tr>\n",
       "      <th>7</th>\n",
       "      <td>120</td>\n",
       "      <td>IZUZETNO OPASAN</td>\n",
       "      <td></td>\n",
       "    </tr>\n",
       "    <tr>\n",
       "      <th>8</th>\n",
       "      <td>121</td>\n",
       "      <td>bezopasan</td>\n",
       "      <td></td>\n",
       "    </tr>\n",
       "    <tr>\n",
       "      <th>9</th>\n",
       "      <td>123</td>\n",
       "      <td>IZUZETNO OPASAN</td>\n",
       "      <td></td>\n",
       "    </tr>\n",
       "    <tr>\n",
       "      <th>10</th>\n",
       "      <td>124</td>\n",
       "      <td>IZUZETNO OPASAN</td>\n",
       "      <td></td>\n",
       "    </tr>\n",
       "    <tr>\n",
       "      <th>11</th>\n",
       "      <td>125</td>\n",
       "      <td>ispitivanja u toku</td>\n",
       "      <td></td>\n",
       "    </tr>\n",
       "    <tr>\n",
       "      <th>12</th>\n",
       "      <td>130</td>\n",
       "      <td>bezopasan</td>\n",
       "      <td></td>\n",
       "    </tr>\n",
       "    <tr>\n",
       "      <th>13</th>\n",
       "      <td>131</td>\n",
       "      <td>štetan</td>\n",
       "      <td>može izazvati rak</td>\n",
       "    </tr>\n",
       "    <tr>\n",
       "      <th>14</th>\n",
       "      <td>132</td>\n",
       "      <td>bezopasan</td>\n",
       "      <td></td>\n",
       "    </tr>\n",
       "  </tbody>\n",
       "</table>\n",
       "</div>"
      ],
      "text/plain": [
       "    Aditiv (E-broj)            Štetnost           Napomena\n",
       "0               100           bezopasan                   \n",
       "1               101           bezopasan                   \n",
       "2               102     IZUZETNO OPASAN                   \n",
       "3               104           bezopasan                   \n",
       "4               105           bezopasan                   \n",
       "5               110     IZUZETNO OPASAN                   \n",
       "6               111           bezopasan                   \n",
       "7               120     IZUZETNO OPASAN                   \n",
       "8               121           bezopasan                   \n",
       "9               123     IZUZETNO OPASAN                   \n",
       "10              124     IZUZETNO OPASAN                   \n",
       "11              125  ispitivanja u toku                   \n",
       "12              130           bezopasan                   \n",
       "13              131              štetan  može izazvati rak\n",
       "14              132           bezopasan                   "
      ]
     },
     "execution_count": 3,
     "metadata": {},
     "output_type": "execute_result"
    }
   ],
   "source": [
    "aditivi = pd.read_excel(\"podaci/Aditivi.xlsx\", sheet_name=\"Aditivi\", na_filter=False)\n",
    "aditivi.head(15)"
   ]
  },
  {
   "cell_type": "markdown",
   "metadata": {},
   "source": [
    "Argument `na_filter=False` kaže funkciji `read_excel` da prazne ćelije ostanu prazne i da u njih ne unosi vrednost _NaN_.\n",
    "\n",
    "Napravićemo sada frekvencijsku analizu ove tabele na osnovu štetnosti aditiva."
   ]
  },
  {
   "cell_type": "code",
   "execution_count": 4,
   "metadata": {},
   "outputs": [
    {
     "data": {
      "text/plain": [
       "štetan                33\n",
       "bezopasan             29\n",
       "ispitivanja u toku    10\n",
       "IZUZETNO OPASAN        5\n",
       "Name: Štetnost, dtype: int64"
      ]
     },
     "execution_count": 4,
     "metadata": {},
     "output_type": "execute_result"
    }
   ],
   "source": [
    "aditivi[\"Štetnost\"].value_counts()"
   ]
  },
  {
   "cell_type": "markdown",
   "metadata": {},
   "source": [
    "Profiltriraćemo tabelu da bismo izlistali aditive koji mogu izazvati rak."
   ]
  },
  {
   "cell_type": "code",
   "execution_count": 5,
   "metadata": {},
   "outputs": [
    {
     "data": {
      "text/html": [
       "<div>\n",
       "<style scoped>\n",
       "    .dataframe tbody tr th:only-of-type {\n",
       "        vertical-align: middle;\n",
       "    }\n",
       "\n",
       "    .dataframe tbody tr th {\n",
       "        vertical-align: top;\n",
       "    }\n",
       "\n",
       "    .dataframe thead th {\n",
       "        text-align: right;\n",
       "    }\n",
       "</style>\n",
       "<table border=\"1\" class=\"dataframe\">\n",
       "  <thead>\n",
       "    <tr style=\"text-align: right;\">\n",
       "      <th></th>\n",
       "      <th>Aditiv (E-broj)</th>\n",
       "      <th>Štetnost</th>\n",
       "      <th>Napomena</th>\n",
       "    </tr>\n",
       "  </thead>\n",
       "  <tbody>\n",
       "    <tr>\n",
       "      <th>13</th>\n",
       "      <td>131</td>\n",
       "      <td>štetan</td>\n",
       "      <td>može izazvati rak</td>\n",
       "    </tr>\n",
       "    <tr>\n",
       "      <th>17</th>\n",
       "      <td>142</td>\n",
       "      <td>štetan</td>\n",
       "      <td>može izazvati rak</td>\n",
       "    </tr>\n",
       "    <tr>\n",
       "      <th>28</th>\n",
       "      <td>210</td>\n",
       "      <td>štetan</td>\n",
       "      <td>može izazvati rak</td>\n",
       "    </tr>\n",
       "    <tr>\n",
       "      <th>29</th>\n",
       "      <td>211</td>\n",
       "      <td>štetan</td>\n",
       "      <td>može izazvati rak</td>\n",
       "    </tr>\n",
       "    <tr>\n",
       "      <th>30</th>\n",
       "      <td>213</td>\n",
       "      <td>štetan</td>\n",
       "      <td>može izazvati rak</td>\n",
       "    </tr>\n",
       "    <tr>\n",
       "      <th>31</th>\n",
       "      <td>214</td>\n",
       "      <td>štetan</td>\n",
       "      <td>može izazvati rak</td>\n",
       "    </tr>\n",
       "    <tr>\n",
       "      <th>32</th>\n",
       "      <td>215</td>\n",
       "      <td>štetan</td>\n",
       "      <td>može izazvati rak</td>\n",
       "    </tr>\n",
       "    <tr>\n",
       "      <th>33</th>\n",
       "      <td>216</td>\n",
       "      <td>štetan</td>\n",
       "      <td>može izazvati rak</td>\n",
       "    </tr>\n",
       "    <tr>\n",
       "      <th>34</th>\n",
       "      <td>217</td>\n",
       "      <td>štetan</td>\n",
       "      <td>može izazvati rak</td>\n",
       "    </tr>\n",
       "    <tr>\n",
       "      <th>45</th>\n",
       "      <td>239</td>\n",
       "      <td>štetan</td>\n",
       "      <td>može izazvati rak</td>\n",
       "    </tr>\n",
       "    <tr>\n",
       "      <th>55</th>\n",
       "      <td>330</td>\n",
       "      <td>štetan</td>\n",
       "      <td>može izazvati rak</td>\n",
       "    </tr>\n",
       "  </tbody>\n",
       "</table>\n",
       "</div>"
      ],
      "text/plain": [
       "    Aditiv (E-broj) Štetnost           Napomena\n",
       "13              131   štetan  može izazvati rak\n",
       "17              142   štetan  može izazvati rak\n",
       "28              210   štetan  može izazvati rak\n",
       "29              211   štetan  može izazvati rak\n",
       "30              213   štetan  može izazvati rak\n",
       "31              214   štetan  može izazvati rak\n",
       "32              215   štetan  može izazvati rak\n",
       "33              216   štetan  može izazvati rak\n",
       "34              217   štetan  može izazvati rak\n",
       "45              239   štetan  može izazvati rak\n",
       "55              330   štetan  može izazvati rak"
      ]
     },
     "execution_count": 5,
     "metadata": {},
     "output_type": "execute_result"
    }
   ],
   "source": [
    "aditivi[aditivi.Napomena == \"može izazvati rak\"]"
   ]
  },
  {
   "cell_type": "markdown",
   "metadata": {},
   "source": [
    "Za kraj, izlistaćemo aditive koji su izuzetno opasni ili mogu izazvati rak. U tu svrhu treba da kombinujemo dva kriterijuma:\n",
    "\n",
    "    Napomena == \"može izazvati rak\"  ili  Štetnost == \"IZUZETNO OPASAN\"\n",
    "\n",
    "Logički veznik \"ili\" se u biblioteci `pandas` označava simbolom `|`. Prema tome, podatke dobijamo tako što tabeli prosledimo sledeći zahtev za filtriranje:"
   ]
  },
  {
   "cell_type": "code",
   "execution_count": 6,
   "metadata": {},
   "outputs": [
    {
     "data": {
      "text/html": [
       "<div>\n",
       "<style scoped>\n",
       "    .dataframe tbody tr th:only-of-type {\n",
       "        vertical-align: middle;\n",
       "    }\n",
       "\n",
       "    .dataframe tbody tr th {\n",
       "        vertical-align: top;\n",
       "    }\n",
       "\n",
       "    .dataframe thead th {\n",
       "        text-align: right;\n",
       "    }\n",
       "</style>\n",
       "<table border=\"1\" class=\"dataframe\">\n",
       "  <thead>\n",
       "    <tr style=\"text-align: right;\">\n",
       "      <th></th>\n",
       "      <th>Aditiv (E-broj)</th>\n",
       "      <th>Štetnost</th>\n",
       "      <th>Napomena</th>\n",
       "    </tr>\n",
       "  </thead>\n",
       "  <tbody>\n",
       "    <tr>\n",
       "      <th>2</th>\n",
       "      <td>102</td>\n",
       "      <td>IZUZETNO OPASAN</td>\n",
       "      <td></td>\n",
       "    </tr>\n",
       "    <tr>\n",
       "      <th>5</th>\n",
       "      <td>110</td>\n",
       "      <td>IZUZETNO OPASAN</td>\n",
       "      <td></td>\n",
       "    </tr>\n",
       "    <tr>\n",
       "      <th>7</th>\n",
       "      <td>120</td>\n",
       "      <td>IZUZETNO OPASAN</td>\n",
       "      <td></td>\n",
       "    </tr>\n",
       "    <tr>\n",
       "      <th>9</th>\n",
       "      <td>123</td>\n",
       "      <td>IZUZETNO OPASAN</td>\n",
       "      <td></td>\n",
       "    </tr>\n",
       "    <tr>\n",
       "      <th>10</th>\n",
       "      <td>124</td>\n",
       "      <td>IZUZETNO OPASAN</td>\n",
       "      <td></td>\n",
       "    </tr>\n",
       "    <tr>\n",
       "      <th>13</th>\n",
       "      <td>131</td>\n",
       "      <td>štetan</td>\n",
       "      <td>može izazvati rak</td>\n",
       "    </tr>\n",
       "    <tr>\n",
       "      <th>17</th>\n",
       "      <td>142</td>\n",
       "      <td>štetan</td>\n",
       "      <td>može izazvati rak</td>\n",
       "    </tr>\n",
       "    <tr>\n",
       "      <th>28</th>\n",
       "      <td>210</td>\n",
       "      <td>štetan</td>\n",
       "      <td>može izazvati rak</td>\n",
       "    </tr>\n",
       "    <tr>\n",
       "      <th>29</th>\n",
       "      <td>211</td>\n",
       "      <td>štetan</td>\n",
       "      <td>može izazvati rak</td>\n",
       "    </tr>\n",
       "    <tr>\n",
       "      <th>30</th>\n",
       "      <td>213</td>\n",
       "      <td>štetan</td>\n",
       "      <td>može izazvati rak</td>\n",
       "    </tr>\n",
       "    <tr>\n",
       "      <th>31</th>\n",
       "      <td>214</td>\n",
       "      <td>štetan</td>\n",
       "      <td>može izazvati rak</td>\n",
       "    </tr>\n",
       "    <tr>\n",
       "      <th>32</th>\n",
       "      <td>215</td>\n",
       "      <td>štetan</td>\n",
       "      <td>može izazvati rak</td>\n",
       "    </tr>\n",
       "    <tr>\n",
       "      <th>33</th>\n",
       "      <td>216</td>\n",
       "      <td>štetan</td>\n",
       "      <td>može izazvati rak</td>\n",
       "    </tr>\n",
       "    <tr>\n",
       "      <th>34</th>\n",
       "      <td>217</td>\n",
       "      <td>štetan</td>\n",
       "      <td>može izazvati rak</td>\n",
       "    </tr>\n",
       "    <tr>\n",
       "      <th>45</th>\n",
       "      <td>239</td>\n",
       "      <td>štetan</td>\n",
       "      <td>može izazvati rak</td>\n",
       "    </tr>\n",
       "    <tr>\n",
       "      <th>55</th>\n",
       "      <td>330</td>\n",
       "      <td>štetan</td>\n",
       "      <td>može izazvati rak</td>\n",
       "    </tr>\n",
       "  </tbody>\n",
       "</table>\n",
       "</div>"
      ],
      "text/plain": [
       "    Aditiv (E-broj)         Štetnost           Napomena\n",
       "2               102  IZUZETNO OPASAN                   \n",
       "5               110  IZUZETNO OPASAN                   \n",
       "7               120  IZUZETNO OPASAN                   \n",
       "9               123  IZUZETNO OPASAN                   \n",
       "10              124  IZUZETNO OPASAN                   \n",
       "13              131           štetan  može izazvati rak\n",
       "17              142           štetan  može izazvati rak\n",
       "28              210           štetan  može izazvati rak\n",
       "29              211           štetan  može izazvati rak\n",
       "30              213           štetan  može izazvati rak\n",
       "31              214           štetan  može izazvati rak\n",
       "32              215           štetan  može izazvati rak\n",
       "33              216           štetan  može izazvati rak\n",
       "34              217           štetan  može izazvati rak\n",
       "45              239           štetan  može izazvati rak\n",
       "55              330           štetan  može izazvati rak"
      ]
     },
     "execution_count": 6,
     "metadata": {},
     "output_type": "execute_result"
    }
   ],
   "source": [
    "aditivi[(aditivi.Napomena == \"može izazvati rak\") | (aditivi.Štetnost == \"IZUZETNO OPASAN\")]"
   ]
  },
  {
   "cell_type": "markdown",
   "metadata": {},
   "source": [
    "## 10.3. Upisivanje tabele u Eksel datoteku\n",
    "\n",
    "Bilo koju tabelu možemo da upišemo i u Eksel datoteku kao što smo ih upisivali u _CSV_ datoteke. Potrebno se samo pozvati funkciju `to_excel` i proslediti joj ime datoteke. Na primer, ako je `opasni_aditivi` tabela koja sadrži spisak opasnih aditiva:"
   ]
  },
  {
   "cell_type": "code",
   "execution_count": 7,
   "metadata": {},
   "outputs": [],
   "source": [
    "opasni_aditivi = aditivi[(aditivi.Napomena == \"može izazvati rak\") | (aditivi.Štetnost == \"IZUZETNO OPASAN\")]"
   ]
  },
  {
   "cell_type": "markdown",
   "metadata": {},
   "source": [
    "nju možemo upisati u Eksel datoteku ovako:"
   ]
  },
  {
   "cell_type": "code",
   "execution_count": 8,
   "metadata": {},
   "outputs": [],
   "source": [
    "opasni_aditivi.to_excel(\"podaci/opasni_aditivi.xlsx\", encoding=\"utf-8\")"
   ]
  },
  {
   "cell_type": "markdown",
   "metadata": {},
   "source": [
    "Argument `encoding=\"utf-8\"` moramo da prosledimo funkciji zato što u tabeli imamo podatke koji su zapisani ćirilicom, kao što je bio slučaj kod pisanja u _CSV_ datoteke. Ako sada otvorimo ovu datoteku iz Eksela dobićemo ovakav izgled:\n",
    "\n",
    "![Eksel fajl](slike/opasni_aditivi.jpg)\n",
    "\n",
    "Vidimo da je Pajton upisao i indeksnu kolonu što nam u ovom slučaju ne odgovara. Kao i kod upisivanja u _CSV_ datoteke možemo reći Pajtonu da u datoteku ne upisuje indeksnu kolonu tako što ćemo navesti još i argument `index=False`:"
   ]
  },
  {
   "cell_type": "code",
   "execution_count": 9,
   "metadata": {},
   "outputs": [],
   "source": [
    "opasni_aditivi.to_excel(\"podaci/opasni_aditivi.xlsx\", encoding=\"utf-8\", index=False)"
   ]
  },
  {
   "cell_type": "markdown",
   "metadata": {},
   "source": [
    "Ako sada novu datoteku učitamo iz Eksela dobijamo\n",
    "\n",
    "![Eksel fajl](slike/opasni_aditivi2.jpg)\n",
    "\n",
    "Za kraj treba još malo proširiti kolone u Eksel tabeli da bi se ulepšao njen izgled -- i gotovo!."
   ]
  },
  {
   "cell_type": "markdown",
   "metadata": {},
   "source": [
    "## 10.4. Zadaci\n",
    "\n",
    "Zadatke reši u Džupajteru."
   ]
  },
  {
   "cell_type": "markdown",
   "metadata": {},
   "source": [
    "**Zadatak 1.** Pogledaj pažljivo naredbe u sledećoj ćeliji, pa odgovori na pitanja:"
   ]
  },
  {
   "cell_type": "code",
   "execution_count": 10,
   "metadata": {},
   "outputs": [],
   "source": [
    "import pandas as pd\n",
    "aditivi = pd.read_excel(\"podaci/Aditivi.xlsx\", sheet_name=\"Aditivi\", na_filter=False)"
   ]
  },
  {
   "cell_type": "markdown",
   "metadata": {},
   "source": [
    "1. Šta će uraditi funkcija `read_excel` ako se ukloni argument `sheet_name=\"Aditivi\"` (znamo da tabela ima samo jedan radni list)?\n",
    "2. Šta znači argument `na_filter=False` funkcije `read_excel`?\n"
   ]
  },
  {
   "cell_type": "markdown",
   "metadata": {},
   "source": [
    "**Zadatak 2.** U tabeli `podaci/SO2.xlsx` nalaze se rezultati merenja koncentracije sumpor-dioksida u 2017. godini u nekim gradovima Srbije. Tabela ima četiri kolone:\n",
    "\n",
    "* MernaStanica = Merna stanica\n",
    "* SGV = Srednja godišnja vrednost u mikrogramima po kubnom metru\n",
    "* BD125 = Broj dana sa više od 125 mikrograma po kubnom metru\n",
    "* MDV = Maksimalna dnevna vrednost u mikrogramima po kubnom metru\n",
    "\n",
    "_(a)_ Učitaj ovu tabelu u strukturu podataka _DataFrame_."
   ]
  },
  {
   "cell_type": "markdown",
   "metadata": {},
   "source": [
    "_(b)_ Sortiraj podake po koloni MDV i prikaži vrednosti u ovoj koloni histogramom."
   ]
  },
  {
   "cell_type": "markdown",
   "metadata": {},
   "source": [
    "_(v)_ Izdvoj iz tabele one redove kod kojih je vrednost u koloni BD125 veća od 0 i tako dobijenu tabelu upiši u novu datoteku _podaci/SO2-VisokeVrednosti.xlsx_ vodeći računa o tome da tabela sadrži slova specifična za srpski jezik."
   ]
  },
  {
   "cell_type": "markdown",
   "metadata": {},
   "source": [
    "**Zadatak 3.** U tabeli `podaci/Razred.xlsx` nalaze se ocene učenika jednog razreda iz informatike. Podaci su realni, pa su zato anonimizirani (imena učenika su Učenik 1, Učenik 2, itd). Tabela ima zaglavlje, a tekst je unet _latiničnim pismom_.\n",
    "\n",
    "_(a)_ Učitaj ovu tabelu u strukturu podataka _DataFrame_ i prikaži prvih nekoliko redova da razumeš strukturu tabele."
   ]
  },
  {
   "cell_type": "markdown",
   "metadata": {},
   "source": [
    "(Kolone označene sa \"K\" predstavljaju ocene iz kontrolnog zadatka, kolone označene sa \"P\" predstavljaju ocenu iz pismenog zadatka (ovo je latinično slovo P), kolone označene sa \"U\" predstavljaju ocenu iz usmene provere, a kolona \"D\" ocenu iz domaćih zadataka.)\n",
    "\n",
    "_(b)_ Indeksiraj tabelu kolonom \"Ime\"."
   ]
  },
  {
   "cell_type": "markdown",
   "metadata": {},
   "source": [
    "_(v)_ Izračunaj i ispiši prosečnu ocenu na svakom od tri pismena zadatka (kolone \"P1\", \"P2\" i \"P3\")."
   ]
  },
  {
   "cell_type": "markdown",
   "metadata": {},
   "source": [
    "_(g)_ Dodaj tabeli novu kolonu \"Prosek\" i onda za svakog učenika izračunaj prosek ocena i upiši dobijenu vrednost u ovu kolonu tabele."
   ]
  },
  {
   "cell_type": "markdown",
   "metadata": {},
   "source": [
    "_(d)_ Dodaj tabeli novu kolonu \"Ocena\" i onda za svakog učenika izračunaj zaključnu ocenu na osnovu proseka, i upiši tu ocenu u ovu kolonu tabele. Sledeća funkcija ti može biti korisna:"
   ]
  },
  {
   "cell_type": "code",
   "execution_count": 11,
   "metadata": {},
   "outputs": [],
   "source": [
    "def zaklj_ocena(prosek):\n",
    "    if prosek >= 4.50:\n",
    "        return 5\n",
    "    elif prosek >= 3.50:\n",
    "        return 4\n",
    "    elif prosek >= 2.50:\n",
    "        return 3\n",
    "    elif prosek >= 1.50:\n",
    "        return 2\n",
    "    else:\n",
    "        return 1"
   ]
  },
  {
   "cell_type": "markdown",
   "metadata": {},
   "source": [
    "_(d)_ Dobijenu tabelu upiši u novu datoteku _podaci/Razred-Ocene.xlsx_ vodeći računa o tome da tabela sadrži slova specifična za srpski jezik."
   ]
  },
  {
   "cell_type": "markdown",
   "metadata": {},
   "source": [
    "**Zadatak 4.** _Eurostat_ je zvanična organizacija Evropske unije koja se bavi statističkim analizama od značaja za rad i razvoj unije. Svi podaci koje _Eurostat_ prikupi i obradi su javno dostupni na linku https://ec.europa.eu/eurostat/data/database\n",
    "\n",
    "U datoteci _podaci/EUProjPop.xlsx_ se nalaze podaci o očekivanom broju stanovnika EU do 2080. godine. Ova tabela ima dva radna lista: _Baseline_ na kome se nalaze podaci o očekivanom broju stanovnika, i _Migration_ na kome se nalaze podaci o očekivanom broju stanovnika u slučaju povećanog broja migranata u zemlje Evropske unije.\n",
    "\n",
    "_(a)_ Učitaj ove dve tabele u dve strukture podataka _DataFrame_ i za svaku prikaži prvih nekoliko redova da razumeš strukturu tabela."
   ]
  },
  {
   "cell_type": "markdown",
   "metadata": {},
   "source": [
    "_(b)_ Obema tabelama dodaj novu vrstu \"EU\", pa za svaku tabelu izračunaj i u tu vrstu upiši ukupan očekivani broj stanovnika EU za svaku od navedenih godina."
   ]
  },
  {
   "cell_type": "markdown",
   "metadata": {},
   "source": [
    "_(v)_ Tabeli koja je nastala učitavanjem radnog lista _Migration_ dodaj novu vrstu \"Migration\" pa u nju upiši očekivani priraštaj broja stanovnika u EU usled migracije po godinama (to je razlika podatka u vrsti \"EU\" tabele \"Migration\" i odgovarajućeg podatka u vrsti \"EU\" tabele \"Baseline\")."
   ]
  },
  {
   "cell_type": "markdown",
   "metadata": {},
   "source": [
    "_(g)_ Prikaži linijskim dijagramom očekivani priraštaj broja stanovnika u EU usled migracije po godinama."
   ]
  },
  {
   "cell_type": "markdown",
   "metadata": {},
   "source": [
    "_(d)_ Tabeli koja je nastala učitavanjem radnog lista _Baseline_ dodaj novu vrstu \"EU-UK\", pa izračunaj i u tu vrstu upiši ukupan očekivani broj stanvnika EU za svaku od navedenih godina _bez stanovnika Velike Britanije_."
   ]
  },
  {
   "cell_type": "markdown",
   "metadata": {},
   "source": [
    "_(đ)_ Tabelu dobijenu na ovaj način upiši u datoteku _podaci/EU-UK.xlsx_"
   ]
  },
  {
   "cell_type": "markdown",
   "metadata": {},
   "source": [
    "**Zadatak 5.** U tabeli `podaci/Cricket.xlsx` se nalaze podaci o najboljim igračima kriketa. Ova tabela ima zaglavlje."
   ]
  },
  {
   "cell_type": "markdown",
   "metadata": {},
   "source": [
    "_(a)_ Učitaj ovu tabelu u strukturu podataka _DataFrame_ i ispiši prvih nekoliko redova tabele da vidiš kako izgleda. Indeksiraj tabelu kolonom \"Player\"."
   ]
  },
  {
   "cell_type": "markdown",
   "metadata": {},
   "source": [
    "_(b)_ Dodaj tabeli novu kolonu \"YP\" (_Years Played_) i u nju upiši koliko godina je svaki igrač bio aktivan. (Za svakog igrača od godine u koloni \"To\" oduzeti godinu u koloni \"From\")."
   ]
  },
  {
   "cell_type": "markdown",
   "metadata": {},
   "source": [
    "_(v)_ Dodaj tabeli novu kolonu \"ARY\" (_Average Runs per Year_) i u nju upiši količnik brojeva iz kolone \"Runs\" i \"YP\". (ARY = Runs / YP)."
   ]
  },
  {
   "cell_type": "markdown",
   "metadata": {},
   "source": [
    "_(g)_ Sortiraj tabelu po koloni \"ARY\" od najvećih ka najmanjim vrednostima i prikaži prvih 25 redova tabele. U kom veku su bili aktivni skoro svi od ovih 25 igrača? Šta misliš zašto?"
   ]
  }
 ],
 "metadata": {
  "kernelspec": {
   "display_name": "Python 3",
   "language": "python",
   "name": "python3"
  },
  "language_info": {
   "codemirror_mode": {
    "name": "ipython",
    "version": 3
   },
   "file_extension": ".py",
   "mimetype": "text/x-python",
   "name": "python",
   "nbconvert_exporter": "python",
   "pygments_lexer": "ipython3",
   "version": "3.7.1"
  }
 },
 "nbformat": 4,
 "nbformat_minor": 2
}
