{
 "cells": [
  {
   "cell_type": "markdown",
   "metadata": {},
   "source": [
    "# Uvod u analizu podataka\n",
    "\n",
    "Pred vama je priručnik _Uvod u analizu podataka_ u kome u deset lekcija dajemo pregled osnovnih veština koje se odnose na vizuelizaciju i obradu podataka. Ideja priručnika je da demonstrira kako se koristeći programski jezik Pajton (_Python_) i njegove biblioteke uz malo programerske veštine može iz pogodno predstavljenih podataka dobiti nova vrednost -- inoformacija. Ovaj priručnik je napisan u Džupajteru (_Jupyter_), što je interaktivno radno okruženje za izvršavanje Pajton programa.\n",
    "\n",
    "Jezik za koga smo se opredelili je Pajton, ali cilj ovog priručnika nije učenje programiranja u Pajtonu. Cilj je usvajanje osnovnih veština i tehnika vizuelizacije i obrade podataka, a programski jezik je samo sredstvo koje nam omogućuje da precizno formulišemo ideje i da ih primenimo u praksi. Pajton je moderan programski jezik koji se razvija i redovno održava, i za koga postoji besplatna podrška. To ga čini pogodnim izborom.\n",
    "\n",
    "\n",
    "* [1. Uvod u Džupajter (_Jupyter_)](LJ01.ipynb)\n",
    "* [2. Nizovi podataka i linijski dijagrami](LJ02.ipynb)\n",
    "* [3. Histogrami i boje](LJ03.ipynb)\n",
    "* [4. Prosek i medijana niza brojeva](LJ04.ipynb)\n",
    "* [5. Frekvencijska analiza i sektorski dijagrami](LJ05.ipynb)\n",
    "* [6. Tabelarno predstavljeni podaci](LJ06.ipynb)\n",
    "* [7. Indeksiranje i transponovanje tabele](LJ07.ipynb)\n",
    "* [8. Modifikacije tabele i zapisivanje tabele u datoteku](LJ08.ipynb)\n",
    "* [9. Sortiranje, filtriranje i frekvencijska analiza](LJ09.ipynb)\n",
    "* [10. Džupajter i Eksel](LJ10.ipynb)"
   ]
  }
 ],
 "metadata": {
  "kernelspec": {
   "display_name": "Python 3",
   "language": "python",
   "name": "python3"
  },
  "language_info": {
   "codemirror_mode": {
    "name": "ipython",
    "version": 3
   },
   "file_extension": ".py",
   "mimetype": "text/x-python",
   "name": "python",
   "nbconvert_exporter": "python",
   "pygments_lexer": "ipython3",
   "version": "3.7.1"
  }
 },
 "nbformat": 4,
 "nbformat_minor": 2
}
