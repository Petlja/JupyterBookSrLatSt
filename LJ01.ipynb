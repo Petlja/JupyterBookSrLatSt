{
 "cells": [
  {
   "cell_type": "markdown",
   "metadata": {},
   "source": [
    "# 1. Uvod u Džupajter (_Jupyter_)\n",
    "\n",
    "U ovoj lekciji ćeš naučiti:\n",
    "1. šta je Džupajter (_Jupyter_), kako se krećeš kroz Džupajter radnu svesku (_Jupyter Notebook_) i kako se Džupajter radna sveska koristi za računanje izraza;\n",
    "2. kako se u Džupajteru koriste promenljive i kako se radna sveska koristi pokretanje manjih Pajton (_Python_) programa; i\n",
    "3. šta su biblioteke funkcija i kako se pozivaju funkcije iz standardnih biblioteka."
   ]
  },
  {
   "cell_type": "markdown",
   "metadata": {},
   "source": [
    "## 1.1. Džupajter (_Jupyter_) ume da računa\n",
    "\n",
    "Džupajter (_Jupyter_) je interaktivna radna sveska u koju možeš da unosiš tekst (kao tekst kog upravo čitaš), da računaš, da pokrećeš jednostavnije Pajton programe, da obrađuješ podatke, da prikazuješ podatke u vidu tabele i dijagrama, i još mnogo toga.\n",
    "\n",
    "Svaka Džupajter _radna sveska_ se sastoji iz niza ćelija, a svaka ćelija može da sadrži tekst, matematički izraz ili niz Pajton naredbi. Za sada nećemo objašnjavati kako se u Džupajter ćeliju unosi tekst, već ćemo pažnju usmeriti na računanje izraza i izvršavanje Pajton naredbi.\n",
    "\n",
    "Kada se u Džupajter ćeliju unese neki izraz ili Pajton naredba sadržaj ćelije se može izračunati tako što se klikne na dugme **Run** pri vrhu strane:\n",
    "\n",
    "![Dugme za izvršavanje ćelije](slike/JupyterMenuRun.jpg)\n",
    "\n",
    "ili se na tastaturi pritisne [CTRL]+[ENTER]\n",
    "\n",
    "Evo primera:"
   ]
  },
  {
   "cell_type": "code",
   "execution_count": 1,
   "metadata": {},
   "outputs": [
    {
     "data": {
      "text/plain": [
       "57"
      ]
     },
     "execution_count": 1,
     "metadata": {},
     "output_type": "execute_result"
    }
   ],
   "source": [
    "3 * 19"
   ]
  },
  {
   "cell_type": "code",
   "execution_count": 2,
   "metadata": {},
   "outputs": [
    {
     "data": {
      "text/plain": [
       "882"
      ]
     },
     "execution_count": 2,
     "metadata": {},
     "output_type": "execute_result"
    }
   ],
   "source": [
    "(12 + 51) * 14"
   ]
  },
  {
   "cell_type": "code",
   "execution_count": 3,
   "metadata": {},
   "outputs": [
    {
     "data": {
      "text/plain": [
       "42535295865117307932921825928971026432"
      ]
     },
     "execution_count": 3,
     "metadata": {},
     "output_type": "execute_result"
    }
   ],
   "source": [
    "2**(5**3)"
   ]
  },
  {
   "cell_type": "markdown",
   "metadata": {},
   "source": [
    "Da se podsetimo, dve zvezdice u Pajtonu označavaju stepenovanje."
   ]
  },
  {
   "cell_type": "markdown",
   "metadata": {},
   "source": [
    "## 1.2. Džupajter ume da koristi promenljive i da izvršava Pajton komande\n",
    "\n",
    "Ponekad je zgodno imenovati vrednosti, pogotovo ako se radi o komplikovanim brojevima kao što je to $\\pi$ ili kada se radi o komplikovanim izrazima. Te vrednosti kasnije možemo da koristimo tako što navedemo ime koje smo im dali. Na primer, procenjuje se da je na dan 1.7.2019. na svetu bilo 7.714.576.923 ljudi. Naredba\n",
    "\n",
    "`BrLjudiNaSvetu_2019 = 7714576923`\n",
    "\n",
    "će u sistem uvesti novu promenljivu `BrLjudiNaSvetu_2019` kojoj će biti dodeljena vrednost `7714576923`. Da se podsetimo: imena promenljivih u Pajtonu moraju da počnu slovom i mogu da sadrže slova, cifre i specijalni znak `_` (donja crta)."
   ]
  },
  {
   "cell_type": "code",
   "execution_count": 4,
   "metadata": {},
   "outputs": [],
   "source": [
    "BrLjudiNaSvetu_2019 = 7714576923"
   ]
  },
  {
   "cell_type": "markdown",
   "metadata": {},
   "source": [
    "Nakon izvršavanja ove ćelije sistem neće vratiti nikakav odgovor. Prosto je zapamtio da promenljiva `BrLjudiNaSvetu_2019` ima vrednost 7.714.576.923. Procenjuje se da 27,8% stanovništva sveta živi u gradovima. To znači da u gradovima živi ovoliko ljudi:"
   ]
  },
  {
   "cell_type": "code",
   "execution_count": 5,
   "metadata": {},
   "outputs": [
    {
     "data": {
      "text/plain": [
       "2144652384.5939999"
      ]
     },
     "execution_count": 5,
     "metadata": {},
     "output_type": "execute_result"
    }
   ],
   "source": [
    "BrLjudiNaSvetu_2019 * 27.8 / 100"
   ]
  },
  {
   "cell_type": "markdown",
   "metadata": {},
   "source": [
    "Primetimo da se prilikom zapisivanja decimalnih brojeva u Pajtonu koristi _decimalna tačka_, a ne decimalni zarez, kako je to propisano našim pravopisom!"
   ]
  },
  {
   "cell_type": "markdown",
   "metadata": {},
   "source": [
    "Da se podsetimo: reč _procenat_ potiče od latinskog _pro centum_ što znači \"u stotini\". Zato je\n",
    "$$\n",
    "  47\\% = \\frac{47}{100} = \\text{četrdeset sedam od sto}.\n",
    "$$\n",
    "\n",
    "Na primer, u jednoj školi koja ima 856 učenika njih 25% su odlični. Koliko ima odličnih učenika u toj školi?\n",
    "\n",
    "_Odgovor._ U toj školi ima 214 odličnih učenika jer je\n",
    "$$\n",
    "  856 \\cdot 25\\% = 856 \\cdot \\frac{25}{100} = 214.\n",
    "$$\n",
    "\n",
    "U istoj školi ima 326 učenika sa dobrim prosekom. Koji je to procent ukupnog broja učenika?\n",
    "\n",
    "_Odgovor._ Neka je to $x\\%$ učenika. Onda je\n",
    "$$\n",
    "  856 \\cdot x\\% = 856 \\cdot \\frac{x}{100} = 326.\n",
    "$$\n",
    "Odatle se lako dobija da je\n",
    "$$\n",
    "  x = \\frac{326 \\cdot 100}{856} \\approx 38,08.\n",
    "$$\n",
    "Dakle, približno $38,08\\%$ učenika te škole ima dobar uspeh.\n",
    "\n",
    "Hajde sada da rešimo još jedan zadatak.\n",
    "\n",
    "**Zadatak.** Milica je želela da kupi pantalone koje su koštale 6.799,99 dinara, ali joj je mama rekla da su preskupe. Zato je Milica sačekala sezonu sniženja i kada je sledeći put obišla prodavnicu videla je da je cena pantalona snižena za 25%. Mama je pristala da joj kupi pantalone po sniženoj ceni. Kada su došle do kase prijatno su bile iznenađene činjenicom da su dobile popust od 3% na već sniženu cenu zato što je njena mama pantalone platila gotovinom. Koliko su na kraju koštale pantalone?"
   ]
  },
  {
   "cell_type": "code",
   "execution_count": 6,
   "metadata": {},
   "outputs": [
    {
     "data": {
      "text/plain": [
       "4946.992725"
      ]
     },
     "execution_count": 6,
     "metadata": {},
     "output_type": "execute_result"
    }
   ],
   "source": [
    "cena = 6799.99\n",
    "popust1 = cena * 25 / 100\n",
    "niza_cena = cena - popust1\n",
    "popust2 = niza_cena * 3 / 100\n",
    "niza_cena - popust2"
   ]
  },
  {
   "cell_type": "markdown",
   "metadata": {},
   "source": [
    "Prve četiri naredbe su naredbe dodele: nekim promenljivim dodeljujemo neke vrednosti. Poslednja naredba sadrži samo matematički izraz. Pošto radimo u interaktivnom okruženju (što znači da Džupajter odmah daje odgovore na pitanja koja mu postavimo), ako je poslednja naredba u ćeliji samo izraz sistem će vratiti vrednost tog izraza kao rezultat izvršavanja ćelije.\n",
    "\n",
    "Prethodni program smo mogli da napišemo i ovako:"
   ]
  },
  {
   "cell_type": "code",
   "execution_count": 7,
   "metadata": {},
   "outputs": [
    {
     "name": "stdout",
     "output_type": "stream",
     "text": [
      "Pantalone su na kraju kostale 4946.992725 din\n"
     ]
    }
   ],
   "source": [
    "cena = 6799.99\n",
    "popust1 = cena * 25 / 100\n",
    "niza_cena = cena - popust1\n",
    "popust2 = niza_cena * 3 / 100\n",
    "print(\"Pantalone su na kraju kostale\", niza_cena - popust2, \"din\")"
   ]
  },
  {
   "cell_type": "markdown",
   "metadata": {},
   "source": [
    "Ovaj put naredba `print` _ispisuje_ vrednost izraza, a sistem _ništa ne vraća kao rezultat izvršavanja ćelije_ (primeti da nakon izvršavanja ćelije sistem nije vratio odgovor u obliku `Out[ ]:`).\n",
    "\n",
    "Pri radu sa interaktivnim okruženjima zgodno je usvojiti sledeći manir: naredbu `print` koristimo samo u situacijama u kojima treba da prikažemo vrednosti nekoliko izraza, ili ako želimo da ispis malo ulepšamo, kao u prethodnom primeru."
   ]
  },
  {
   "cell_type": "markdown",
   "metadata": {},
   "source": [
    "## 1.3. Biblioteke funkcija"
   ]
  },
  {
   "cell_type": "markdown",
   "metadata": {},
   "source": [
    "U modernim programskim jezicima, a Pajton je jedan od njih, mogu da se urade neverovatne stvari zato što dolaze sa obiljem _funkcija_ koje su već isprogramirane. Tako se korisniku sistema (ili programeru) umnogome olakšava život: većina stvari koje prosečnom korisniku trebaju su već isprogramirane, samo treba naći odgovarajuću funkciju!\n",
    "\n",
    "Da bi se korisnici lakše snašli u ovom obilju, sve funkcije koje dolaze uz programski jezik (odnosno, odgovarajuće okruženje) su grupisane u _biblioteke funkcija_.\n",
    "\n",
    "Recimo, biblioteka matematičkih funkcija se zove `math`. Ona sadrži funkcije kao što su `sqrt` (koja računa _kvadratni koren_), `sin` (koja računa _sinus_ ugla) i `cos` (koja računa _kosinus_ ugla), ali i matematičke konstante kao što je `pi` (koja predstavlja dobru aproksimaciju broja $\\pi$).\n",
    "\n",
    "Na primer, program koji računa obim kruga datog poluprečnika izgleda ovako:"
   ]
  },
  {
   "cell_type": "code",
   "execution_count": 8,
   "metadata": {},
   "outputs": [
    {
     "name": "stdout",
     "output_type": "stream",
     "text": [
      "Unesi poluprecnik kruga: 6\n",
      "Obim kruga je: 37.69911184307752\n"
     ]
    }
   ],
   "source": [
    "from math import pi\n",
    "r = float(input(\"Unesi poluprecnik kruga: \"))\n",
    "obim = 2 * r * pi\n",
    "print(\"Obim kruga je:\", obim)"
   ]
  },
  {
   "cell_type": "markdown",
   "metadata": {},
   "source": [
    "Prvi red u ovom programu pokazuje kako se iz neke biblioteke može uvesti funkcija ili konstanta koja nam je potrebna. Naredba\n",
    "\n",
    "`from math import pi`\n",
    "\n",
    "doslovno znači: iz biblioteke `math` uvezi pojam `pi`. Time smo u program uveli ime `pi` i slobodno možemo da ga koristimo.\n",
    "\n",
    "Evo još jednog primera. Napisaćemo Pajton program koji određuje hipotenuzu $c$ pravouglog trougla ako znamo njegove katete $a$ i $b$. (Da se podsetimo, prema Pitagorinoj teoremi je $c = \\sqrt{a^2 + b^2}$.)\n",
    "\n",
    "Za ovaj program će nam trebati funkcija `sqrt` koja računa koren nekog broja i koja se takođe nalazi u biblioteci `math`."
   ]
  },
  {
   "cell_type": "code",
   "execution_count": 9,
   "metadata": {},
   "outputs": [
    {
     "name": "stdout",
     "output_type": "stream",
     "text": [
      "Unesi katetu a: 6\n",
      "Unesi katetu b: 8\n",
      "Hipotenuza c je: 10.0\n"
     ]
    }
   ],
   "source": [
    "from math import sqrt\n",
    "a = float(input(\"Unesi katetu a: \"))\n",
    "b = float(input(\"Unesi katetu b: \"))\n",
    "c = sqrt(a**2 + b**2)\n",
    "print(\"Hipotenuza c je:\", c)"
   ]
  },
  {
   "cell_type": "markdown",
   "metadata": {},
   "source": [
    "Prethodna dva primera predstavljaju kompletne male programe: podatke smo učitali naredbom `input`, obradili smo ih na odgovarajući način, i rezultate smo ispisali naredbom `print`.\n",
    "\n",
    "Rad sa interaktivnim okruženjima nam omogućuje da umesto celih programa pišemo \"parčiće koda\" koje možemo da menjamo kako nam odgovara i da ih izvršavamo kolikogod puta želimo. Tako se lakše eksperimentiše sa podacima (što je važan deo modernog razumevanja obrade podataka i o tome ćemo pričati kasnije), i štedi vreme. Tada uglavnom ne koristimo naredbu `input` već direktno u kod unesemo vrednosti koje nas interesuju.\n",
    "\n",
    "Na primer, prethodni problem (računanje hipotenuze pravouglog trougla) možemo u interaktivnom okruženju da rešimo i ovako:"
   ]
  },
  {
   "cell_type": "code",
   "execution_count": 10,
   "metadata": {},
   "outputs": [
    {
     "data": {
      "text/plain": [
       "5.0"
      ]
     },
     "execution_count": 10,
     "metadata": {},
     "output_type": "execute_result"
    }
   ],
   "source": [
    "from math import sqrt\n",
    "a, b = 3, 4\n",
    "sqrt(a**2 + b**2)"
   ]
  },
  {
   "cell_type": "markdown",
   "metadata": {},
   "source": [
    "Naredba `a, b = 3, 4` znači da će `a` dobiti vrednost 3, a `b` vrednost 4. Rezultat izvršavanja ćelije je vrednost izraza `sqrt(a**2 + b**2)`."
   ]
  },
  {
   "cell_type": "markdown",
   "metadata": {},
   "source": [
    "## 1.4. Zadaci\n",
    "\n",
    "Zadatke koji slede reši u Džupajteru."
   ]
  },
  {
   "cell_type": "markdown",
   "metadata": {},
   "source": [
    "**Zadatak 1.** \n",
    "\n",
    "_(a)_ Jedna knjiga je koštala 2460 dinara, a onda je knjižara snizila njenu cenu za 20%. Koliko sada košta knjiga?\n",
    "\n",
    "_(b)_ Druga knjiga u istoj knjižari nakon sniženja od 20% košta 1480 dinara. Koliko je koštala pre sniženja?"
   ]
  },
  {
   "cell_type": "markdown",
   "metadata": {},
   "source": [
    "**Zadatak 2.** Procenjuje se da je Kina na dan 1.7.2019. imala 1.420.062.022 stanovnika. Broj stanovnika u Kini se svake godine poveća za 0,35%. Pod pretpostavkom da se godišnji rast broja stanovnika u Kini neće menjati, koliko stanovnika će Kina imati 2020. godine?"
   ]
  },
  {
   "cell_type": "code",
   "execution_count": null,
   "metadata": {},
   "outputs": [],
   "source": []
  },
  {
   "cell_type": "markdown",
   "metadata": {},
   "source": [
    "**Zadatak 3*.** Procenjuje se da je Kina na dan 1.7.2019. imala 1.420.062.022 stanovnika, a Indija 1.368.737.513. Broj stanovnika u Kini se svake godine poveća za 0,35%, a u Indiji za 1,08%. Nakon koliko godina će Indija prestići Kinu po broju stanovnika, pod pretpostavkom da se godišnji rast broja stanovnika ni u jednoj od ove dve države neće menjati?"
   ]
  },
  {
   "cell_type": "code",
   "execution_count": null,
   "metadata": {},
   "outputs": [],
   "source": []
  },
  {
   "cell_type": "markdown",
   "metadata": {},
   "source": [
    "**Zadatak 4.** Napiši Pajton program koji učitava poluprečnik kruga, a onda računa i štampa njegovu površinu. (Pomoć: `pi` se nalazi u biblioteci `math`.)"
   ]
  },
  {
   "cell_type": "code",
   "execution_count": null,
   "metadata": {},
   "outputs": [],
   "source": []
  },
  {
   "cell_type": "markdown",
   "metadata": {},
   "source": [
    "**Zadatak 5.** Rastojanje dve tačke date u ravni svojim koordinatama $A(x_1, y_1)$ i $B(x_2, y_2)$ može se izračunati pomoću formule\n",
    "\n",
    "$$d(A, B) = \\sqrt{(x_1 - x_2)^2 + (y_1 - y_2)^2}$$\n",
    "\n",
    "Napiši Pajton program koji učitava koordinate dve tačke u ravni i potom računa i štampa njihovo rastojanje. (Pomoć: `sqrt` se nalazi u biblioteci `math`; ako ti ova formula deluje zastrašujuće ne brini: to samo prerušena Pitagorina teorema!)"
   ]
  },
  {
   "cell_type": "code",
   "execution_count": null,
   "metadata": {},
   "outputs": [],
   "source": []
  },
  {
   "cell_type": "markdown",
   "metadata": {},
   "source": [
    "**Zadatak 6.** _Faktorijel_ broja $n$ je proizvod svih brojeva od 1 do $n$ i označava se ovako:\n",
    "\n",
    "$$n! = 1 \\cdot 2 \\cdot 3 \\cdot \\dots \\cdot n.$$\n",
    "\n",
    "Izračunaj broj 200! i utvrdi sa koliko nula se završava. (Pomoć: biblioteka `math` ima funkciju `factorial`.)"
   ]
  },
  {
   "cell_type": "code",
   "execution_count": null,
   "metadata": {},
   "outputs": [],
   "source": []
  },
  {
   "cell_type": "markdown",
   "metadata": {},
   "source": [
    "**Zadatak 7*.** Koristeći parče koda navedeno u ćeliji ispod nađi još jedan par celih brojeva $a$ i $b$ takav da je hipotenuza pravouglog trougla sa katetama $a$ i $b$ celobrojna. Umesto `3, 4` unesi neki drugi par celih brojeva, izvrši ćeliju i eksperimentiši! (Takve trojke celih brojeva se zovu _Pitagorine trojke_.)"
   ]
  },
  {
   "cell_type": "code",
   "execution_count": null,
   "metadata": {},
   "outputs": [],
   "source": [
    "from math import sqrt\n",
    "a, b = 3, 4\n",
    "sqrt(a**2 + b**2)"
   ]
  }
 ],
 "metadata": {
  "kernelspec": {
   "display_name": "Python 3",
   "language": "python",
   "name": "python3"
  },
  "language_info": {
   "codemirror_mode": {
    "name": "ipython",
    "version": 3
   },
   "file_extension": ".py",
   "mimetype": "text/x-python",
   "name": "python",
   "nbconvert_exporter": "python",
   "pygments_lexer": "ipython3",
   "version": "3.7.1"
  }
 },
 "nbformat": 4,
 "nbformat_minor": 2
}
