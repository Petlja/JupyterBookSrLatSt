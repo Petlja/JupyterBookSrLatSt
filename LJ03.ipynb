{
 "cells": [
  {
   "cell_type": "markdown",
   "metadata": {},
   "source": [
    "# 3. Histogrami i boje\n",
    "\n",
    "\n",
    "U ovoj lekciji ćeš naučiti:\n",
    "1. još jedan način da premeštaš ćelije unutar Džupajter radne sveske;\n",
    "2. kako da prikazuješ podatke histogramima; i\n",
    "3. kako da prikazuješ grafikone u raznim bojama."
   ]
  },
  {
   "cell_type": "markdown",
   "metadata": {},
   "source": [
    "## 3.1. Još malo o Džupajter radnoj svesci"
   ]
  },
  {
   "cell_type": "markdown",
   "metadata": {},
   "source": [
    "Već smo nekoliko puta rekli da se Džupajter radna sveska sastoji iz niza ćelija, a svaka ćelija može da sadrži tekst, matematički izraz ili niz Pajton naredbi. Niz dugmića pri vrhu strane ti omogućuje da barataš ćelijama Džupajter radne sveske na razne načine. Do sada smo upoznali\n",
    "- dugme **Run** koje izvršava ćeliju,\n",
    "- dugme koje liči na disketu pomoću koga možemo da snimimo radnu svesku,\n",
    "- dugme sa znakom **+** koje dodaje novu ćeliju ispod aktivne ćelije i\n",
    "- strelice na gore i na dole koje pomeraju radnu ćeliju za jedno mesto gore ili dole.\n",
    "\n",
    "Sledeća tri dugmeta:\n",
    "\n",
    "![Još tri dugmeta](slike/JupyterMenuCutCopyPaste.jpg)\n",
    "\n",
    "omogućuju da se sa ćelijama obavljaju standardne operacije koje se na engleskom zovu _cut_ (iseci, dugme \"makaze\"), _copy_ (iskopiraj, dugme \"dva lista papira\") i _paste_ (zalepi, dugme \"list papira koji se dodaje na radnu podlogu\").\n",
    "\n",
    "Ako želiš **da premestiš neku ćeliju:**\n",
    "1. klikni na tu ćeliju,\n",
    "2. klikni na dugme _cut_ (dugme \"makaze\"),\n",
    "3. klikni na neko drugo mesto u Džupajter radnoj svesci, i\n",
    "4. klikni na dugme _paste_ (dugme \"list papira koji se dodaje na radnu podlogu\").\n",
    "\n",
    "Ova operacija se kratko zove _cut/paste_.\n",
    "\n",
    "Ako želiš **da iskopiraš neku ćeliju:**\n",
    "1. klikni na tu ćeliju,\n",
    "2. klikni na dugme _copy_ (dugme \"dva lista papira\")\n",
    "3. klikni na neko drugo mesto u Džupajter radnoj svesci, i\n",
    "4. klikni na dugme _paste_ (dugme \"list papira koji se dodaje na radnu podlogu\").\n",
    "\n",
    "Ova operacija se kratko zove _copy/paste_."
   ]
  },
  {
   "cell_type": "markdown",
   "metadata": {},
   "source": [
    "## 3.2. Histogrami"
   ]
  },
  {
   "cell_type": "markdown",
   "metadata": {},
   "source": [
    "U situacijama kada podataka nema mnogo zgodno ih je prikazati nizom stubića. Takvi dijagrami se zovu _histogrami_ ili _stubičasti dijagrami_ (na engleskom _bar charts_).\n",
    "\n",
    "Pošto ćemo opet crtati grafikone uvešćemo prvo biblioteku za crtanje grafikona i dati joj skraćeno ime:"
   ]
  },
  {
   "cell_type": "code",
   "execution_count": 1,
   "metadata": {},
   "outputs": [],
   "source": [
    "import matplotlib.pyplot as plt"
   ]
  },
  {
   "cell_type": "markdown",
   "metadata": {},
   "source": [
    "Da se podsetimo: biblioteka nam je na raspolaganju u ovoj radnoj svesci, ali je za potrebe neke druge radne sveske moramo ponovo uvesti (iz te, druge, radne sveske).\n",
    "\n",
    "Pretpostavimo da je na polugodištu jedan učenik imao sledeće ocene iz navedenih predmeta:\n",
    "\n",
    "| Predmet | Ocena |\n",
    "|---------|-------|\n",
    "| Matematika | 2 |\n",
    "| Srpski | 4 |\n",
    "| Likovno | 5 |\n",
    "| Istorija | 3 |\n",
    "| Fizičko | 5 |\n",
    "| Muzičko | 4 |\n",
    "| Tehničko | 5 |\n",
    "\n",
    "Podatke možemo predstaviti pomoću dve liste, ovako:"
   ]
  },
  {
   "cell_type": "code",
   "execution_count": 2,
   "metadata": {},
   "outputs": [],
   "source": [
    "predmeti = [\"mat\", \"srp\", \"lik\", \"ist\", \"fiz\", \"muz\", \"tio\"]\n",
    "ocene    = [2,     4,     5,     3,     5,     4,     5    ]"
   ]
  },
  {
   "cell_type": "markdown",
   "metadata": {},
   "source": [
    "Grafički ih možemo predstaviti nizovima stubića koristeći funkciju `bar`. Ova vrsta dijagrama se na engleskom zove _bar chart_ (dijagram sa stubićima), a mi ih zovemo _histogrami_:"
   ]
  },
  {
   "cell_type": "code",
   "execution_count": 3,
   "metadata": {},
   "outputs": [
    {
     "data": {
      "image/png": "[encoded data removed]",
      "text/plain": [
       "<Figure size 432x288 with 1 Axes>"
      ]
     },
     "metadata": {
      "needs_background": "light"
     },
     "output_type": "display_data"
    }
   ],
   "source": [
    "plt.bar(predmeti, ocene)\n",
    "plt.title(\"Ocene na polugodištu\")\n",
    "plt.show()\n",
    "plt.close()"
   ]
  },
  {
   "cell_type": "markdown",
   "metadata": {},
   "source": [
    "Ukoliko želiš da povećaš dimenzije grafikona možeš koristiti funkciju `figure` sa parametrom `figuresize` (engleska reč _figure_ znači \"ilustracija, prikaz\", dok engleska reč _size_ znači \"veličina\"):"
   ]
  },
  {
   "cell_type": "code",
   "execution_count": 4,
   "metadata": {},
   "outputs": [
    {
     "data": {
      "image/png": "[encoded data removed]",
      "text/plain": [
       "<Figure size 720x360 with 1 Axes>"
      ]
     },
     "metadata": {
      "needs_background": "light"
     },
     "output_type": "display_data"
    }
   ],
   "source": [
    "plt.figure(figsize=(10,5))\n",
    "plt.bar(predmeti, ocene)\n",
    "plt.title(\"Ocene na polugodištu\")\n",
    "plt.show()\n",
    "plt.close()"
   ]
  },
  {
   "cell_type": "markdown",
   "metadata": {},
   "source": [
    "Biblioteka za crtanje dodeljuje grafikonu boju kako ona smatra da treba. Ako nam se boja koju je biblioteka odabrala ne sviđa možemo opcijom `color` (engl. \"boja\") promeniti boju."
   ]
  },
  {
   "cell_type": "code",
   "execution_count": 5,
   "metadata": {},
   "outputs": [
    {
     "data": {
      "image/png": "[encoded data removed]",
      "text/plain": [
       "<Figure size 720x360 with 1 Axes>"
      ]
     },
     "metadata": {
      "needs_background": "light"
     },
     "output_type": "display_data"
    }
   ],
   "source": [
    "plt.figure(figsize=(10,5))\n",
    "plt.bar(predmeti, ocene, color=\"g\")\n",
    "plt.title(\"Ocene na polugodištu\")\n",
    "plt.show()\n",
    "plt.close()"
   ]
  },
  {
   "cell_type": "markdown",
   "metadata": {},
   "source": [
    "Dijagram je sada iscrtan zelenom bojom (\"g\" = _green_ = zeleno). Možemo koristiti sledeće boje:\n",
    "\n",
    "| Slovo | Boja (eng) | Boja (srpski) |\n",
    "|-------|------------|---------------|\n",
    "|\"b\"|blue|plava|\n",
    "|\"g\"|green|zelena|\n",
    "|\"r\"|red|crvena|\n",
    "|\"c\"|cyan|svetlo plava|\n",
    "|\"m\"|magenta|roza|\n",
    "|\"y\"|yellow|žuta|\n",
    "|\"k\"|black|crna|\n",
    "|\"w\"|white|bela|"
   ]
  },
  {
   "cell_type": "markdown",
   "metadata": {},
   "source": [
    "## 3.3. Prikazivanje dve grupe podataka na istim dijagramu"
   ]
  },
  {
   "cell_type": "markdown",
   "metadata": {},
   "source": [
    "Moguće je na istom grafikonu prikazati dve grupe podataka. Evo primera.\n",
    "\n",
    "\"Normalna telesna temperatura\" je zapravo interval temperatura koji se menja sa uzrastom osobe. Kada se temperatura meri ispod pazuha, normalna telesna temperatura je opisana sledećom tabelom:\n",
    "\n",
    "| Uzrast | Temperatura ($^\\circ$C) |\n",
    "|--------|-----------------------------|\n",
    "| 0--2 godine | 34,7--37,3 |\n",
    "| 3--10 godina | 35,9--36,7 |\n",
    "| 11--65 godina | 35,2--36,9 |\n",
    "| preko 65 godina | 35,6--36,2 |\n",
    "\n",
    "U narednoj ćeliji smo podatke iz ove tabele predstavili nizovima:"
   ]
  },
  {
   "cell_type": "code",
   "execution_count": 6,
   "metadata": {},
   "outputs": [],
   "source": [
    "starosneGrupe    = [\"0-2\", \"3-10\", \"11-65\", \"65+\"]\n",
    "normalnaT_donja  = [34.7,  35.9,   35.2,    35.6]\n",
    "normalnaT_gornja = [37.3,  36.7,   36.9,    36.2]"
   ]
  },
  {
   "cell_type": "markdown",
   "metadata": {},
   "source": [
    "Prikazaćemo ove podatke na jednom grafikonu tako što ćemo navesti dve `bar` naredbe."
   ]
  },
  {
   "cell_type": "code",
   "execution_count": 7,
   "metadata": {},
   "outputs": [
    {
     "data": {
      "image/png": "[encoded data removed]",
      "text/plain": [
       "<Figure size 432x288 with 1 Axes>"
      ]
     },
     "metadata": {
      "needs_background": "light"
     },
     "output_type": "display_data"
    }
   ],
   "source": [
    "plt.bar(starosneGrupe, normalnaT_gornja)\n",
    "plt.bar(starosneGrupe, normalnaT_donja)\n",
    "plt.title(\"Normalna telesna temperatura po starosnim grupama\")\n",
    "plt.xlabel(\"Starosne grupe (godine)\")\n",
    "plt.ylabel(\"Temperatura (C)\")\n",
    "plt.show()\n",
    "plt.close()"
   ]
  },
  {
   "cell_type": "markdown",
   "metadata": {},
   "source": [
    "Funkcije `xlabel` i `ylabel` dodaju pojašnjenja oznaka na $x$-osi, odnosno na $y$-osi.\n",
    "\n",
    "Ovaj dijagram je nečitak jer su razlike između donje i gornje granice normalnte telesne temperature relativno male u odnosu na podatke koje prikazujemo. Da bi se bolje videlo o kojim intervalima se radi možemo prikazati samo onaj deo dijagrama koji se odnosi na veličine od, recimo, 34 stepena Celzijusa to 39 stepeni Celzijusa koristeći naredbu `ylim` (_$y$-limits_, što znači, \"granice za $y$-osu\")."
   ]
  },
  {
   "cell_type": "code",
   "execution_count": 8,
   "metadata": {},
   "outputs": [
    {
     "data": {
      "image/png": "[encoded data removed]",
      "text/plain": [
       "<Figure size 432x288 with 1 Axes>"
      ]
     },
     "metadata": {
      "needs_background": "light"
     },
     "output_type": "display_data"
    }
   ],
   "source": [
    "plt.bar(starosneGrupe, normalnaT_gornja)\n",
    "plt.bar(starosneGrupe, normalnaT_donja)\n",
    "plt.ylim(34,39)\n",
    "plt.title(\"Normalna telesna temperatura po starosnim grupama\")\n",
    "plt.xlabel(\"Starosne grupe (godine)\")\n",
    "plt.ylabel(\"Temperatura (C)\")\n",
    "plt.show()\n",
    "plt.close()"
   ]
  },
  {
   "cell_type": "markdown",
   "metadata": {},
   "source": [
    "Važno je napomenuti da je redosled navođenja `bar` naredbi bitan jer biblioteka prvo iscrta više stubiće, pa preko njih niže. Ako promenimo redosled `bar` naredbi dobićemo dijagram koji ne predstavlja ono što želimo -- stubići koji predstavljaju donje granice se ne vide jer je preko njih nacrtana druga grupa podataka:"
   ]
  },
  {
   "cell_type": "code",
   "execution_count": 9,
   "metadata": {},
   "outputs": [
    {
     "data": {
      "image/png": "[encoded data removed]",
      "text/plain": [
       "<Figure size 432x288 with 1 Axes>"
      ]
     },
     "metadata": {
      "needs_background": "light"
     },
     "output_type": "display_data"
    }
   ],
   "source": [
    "plt.bar(starosneGrupe, normalnaT_donja)\n",
    "plt.bar(starosneGrupe, normalnaT_gornja)\n",
    "plt.ylim(34,39)\n",
    "plt.title(\"Normalna telesna temperatura po starosnim grupama\")\n",
    "plt.xlabel(\"Starosne grupe (godine)\")\n",
    "plt.ylabel(\"Temperatura (C)\")\n",
    "plt.show()\n",
    "plt.close()"
   ]
  },
  {
   "cell_type": "markdown",
   "metadata": {},
   "source": [
    "Dakle, mora ovim redom:"
   ]
  },
  {
   "cell_type": "code",
   "execution_count": 10,
   "metadata": {},
   "outputs": [
    {
     "data": {
      "image/png": "[encoded data removed]",
      "text/plain": [
       "<Figure size 432x288 with 1 Axes>"
      ]
     },
     "metadata": {
      "needs_background": "light"
     },
     "output_type": "display_data"
    }
   ],
   "source": [
    "plt.bar(starosneGrupe, normalnaT_gornja)\n",
    "plt.bar(starosneGrupe, normalnaT_donja)\n",
    "plt.ylim(34,39)\n",
    "plt.title(\"Normalna telesna temperatura po starosnim grupama\")\n",
    "plt.xlabel(\"Starosne grupe (godine)\")\n",
    "plt.ylabel(\"Temperatura (C)\")\n",
    "plt.show()\n",
    "plt.close()"
   ]
  },
  {
   "cell_type": "markdown",
   "metadata": {},
   "source": [
    "Za nekoga ko je samo bacio pogled na dijagram i nije pažljivo čitao tekst pre njega nije sasvim jasno koji podaci su predstavljeni plavim, a koji narandžastim stubićima. Zato se dijagramu može dodati legenda kojom se daju dodatna objašnjenja.\n",
    "\n",
    "Prvo ćemo u obe `bar` komande dodati još po jedan parametar oblika `label=\"objašnjenje\"` koji ukratko opisuje podatke prikazane na tom delu dijagrama. Funkcija `legend` potom crta legendu na dijagramu."
   ]
  },
  {
   "cell_type": "code",
   "execution_count": 11,
   "metadata": {},
   "outputs": [
    {
     "data": {
      "image/png": "[encoded data removed]",
      "text/plain": [
       "<Figure size 432x288 with 1 Axes>"
      ]
     },
     "metadata": {
      "needs_background": "light"
     },
     "output_type": "display_data"
    }
   ],
   "source": [
    "plt.bar(starosneGrupe, normalnaT_gornja, label=\"gornja granica\")\n",
    "plt.bar(starosneGrupe, normalnaT_donja, label=\"donja granica\")\n",
    "plt.ylim(34,39)\n",
    "plt.title(\"Normalna telesna temperatura po starosnim grupama\")\n",
    "plt.xlabel(\"Starosne grupe (godine)\")\n",
    "plt.ylabel(\"Temperatura (C)\")\n",
    "plt.legend()\n",
    "plt.show()\n",
    "plt.close()"
   ]
  },
  {
   "cell_type": "markdown",
   "metadata": {},
   "source": [
    "## 3.4. Zadaci"
   ]
  },
  {
   "cell_type": "markdown",
   "metadata": {},
   "source": [
    "**Zadatak 1.** Pogledaj sledeći kod pa odgovori na pitanja:"
   ]
  },
  {
   "cell_type": "code",
   "execution_count": 12,
   "metadata": {},
   "outputs": [
    {
     "data": {
      "image/png": "[encoded data removed]",
      "text/plain": [
       "<Figure size 432x288 with 1 Axes>"
      ]
     },
     "metadata": {
      "needs_background": "light"
     },
     "output_type": "display_data"
    }
   ],
   "source": [
    "import matplotlib.pyplot as plt\n",
    "plt.bar(starosneGrupe, normalnaT_gornja, label=\"gornja granica\")\n",
    "plt.bar(starosneGrupe, normalnaT_donja, label=\"donja granica\")\n",
    "plt.ylim(34,39)\n",
    "plt.title(\"Normalna telesna temperatura po starosnim grupama\")\n",
    "plt.xlabel(\"Starosne grupe (godine)\")\n",
    "plt.ylabel(\"Temperatura (C)\")\n",
    "plt.legend()\n",
    "plt.show()\n",
    "plt.close()"
   ]
  },
  {
   "cell_type": "markdown",
   "metadata": {},
   "source": [
    "1. Čemu služi funkcija `bar`?\n",
    "2. Kako bi izgledao grafikon kada bi dve funkcije `bar` zamenile mesta u ovom programu?\n",
    "3. Čemu služi funkcija `xlabel`?\n",
    "4. Čemu služe funkcije `ylim` i `legend`?\n",
    "5. Kako bi promenio veličinu ovog grafikona (dimenzije pravougaonika u koji je spakovan grafikon)?\n",
    "6. Kako bi promenio boju stubića koji prokazuju gornju granicu u žutu?"
   ]
  },
  {
   "cell_type": "markdown",
   "metadata": {},
   "source": [
    "Sledeće zadatke reši u Džupajteru."
   ]
  },
  {
   "cell_type": "markdown",
   "metadata": {},
   "source": [
    "**Zadatak 2.** Prvih deset mesta na ATP listi na dan 21.7.2019. izgleda ovako:"
   ]
  },
  {
   "cell_type": "code",
   "execution_count": 13,
   "metadata": {},
   "outputs": [],
   "source": [
    "teniseri = [\"Đoković\", \"Nadal\", \"Federer\", \"Thiem\", \"Zverev\", \"Tsipras\", \"Nishikori\", \"Khachanov\", \"Fognini\", \"Medvedev\"]\n",
    "poeni    = [12415,      7945,    7460,      4595,   4325,     4045,       4040,        2890,        2785,      2625]"
   ]
  },
  {
   "cell_type": "markdown",
   "metadata": {},
   "source": [
    "Prikaži histogramom podatke o ATP poenima prvih deset tenisera na svetu."
   ]
  },
  {
   "cell_type": "markdown",
   "metadata": {},
   "source": [
    "**Zadatak 3.** Biolozi su do danas opisali oko dva miliona vrsta živih bića. Sva ona su podeljena u pet carstava. Njihov približan broj po carstvima je dat sledećom tabelom:\n",
    "\n",
    "| Carstvo  | Broj vrsta |\n",
    "|--|--|\n",
    "| Životinje | 1.400.000 |\n",
    "| Biljke    | 290.000 |\n",
    "| Gljive    | 100.000 |\n",
    "| Protisti | 200.000 |\n",
    "| Monere   | 10.000 |\n",
    "\n",
    "Prikaži ove podatke histogramom.\n",
    "\n"
   ]
  },
  {
   "cell_type": "markdown",
   "metadata": {},
   "source": [
    "**Zadatak 4.** U sledećoj tabeli su prikazane najviše i najniže temperature (u $^\\circ$C) ikada izmerene na kontinentima:\n",
    "\n",
    "|Kontinent:              | Evropa | Azija | Afrika | Severna Amerika | Južna Amerika | Australija | Antarktik |\n",
    "|------------------------|--------|-------|--------|-----------------|---------------|------------|-----------|\n",
    "|Najviša zabeležena temp:| 48     | 54    | 55     | 56.7            | 48.9          | 50.7       | 19.8      |\n",
    "|Najniža zabeležena temp:| -58.1  | -67.8 | -23.9  | -63             | -32.8         | -23        | -89.2     |\n",
    "\n",
    "Prikaži oba niza podataka histogramima na istom grafikonu. Neka maksimalne temperature budu predstavljene crvenim stubićima, a minimalne plavim. (Podaci su preuzeti sa stranice https://www.space.com/17816-earth-temperature.html)"
   ]
  },
  {
   "cell_type": "markdown",
   "metadata": {},
   "source": [
    "**Zadatak 5.**\n",
    "\n",
    "_(a)_ Pronađi na Internetu šta radi funkcija `barh` iz biblioteke `matplotlib`.\n",
    "\n",
    "_(b)_ Ako u rešenju prethodnog zadatka umesto funkcije `bar` upotrebiš funkciju `barh` na oba mesta kakav ćeš grafikon dobiti?"
   ]
  },
  {
   "cell_type": "code",
   "execution_count": null,
   "metadata": {},
   "outputs": [],
   "source": []
  },
  {
   "cell_type": "markdown",
   "metadata": {},
   "source": [
    "**Zadatak 6*.** Procenjuje se da je Kina na dan 1.7.2019. imala 1.420.062.022 stanovnika, a Indija 1.368.737.513. Broj stanovnika u Kini se svake godine poveća za 0,35%, a u Indiji za 1,08%. Na istom dijagramu prikazati **linijskim grafikom** očekivani broj stanovnika Kine i Indije u narednih deset godina pod pretpostavkom da se godišnji rast broja stanovnika ni u jednoj od ove dve države neće menjati.\n",
    "\n",
    "Nakon koliko godina će Indija prestići Kinu po broju stanovnika? Kako se to može uočiti sa grafikona?"
   ]
  },
  {
   "cell_type": "code",
   "execution_count": null,
   "metadata": {},
   "outputs": [],
   "source": []
  }
 ],
 "metadata": {
  "kernelspec": {
   "display_name": "Python 3",
   "language": "python",
   "name": "python3"
  },
  "language_info": {
   "codemirror_mode": {
    "name": "ipython",
    "version": 3
   },
   "file_extension": ".py",
   "mimetype": "text/x-python",
   "name": "python",
   "nbconvert_exporter": "python",
   "pygments_lexer": "ipython3",
   "version": "3.7.1"
  }
 },
 "nbformat": 4,
 "nbformat_minor": 2
}
