{
 "cells": [
  {
   "cell_type": "markdown",
   "metadata": {},
   "source": [
    "# 7. Indeksiranje i transponovanje tabele\n",
    "\n",
    "U ovoj lekciji ćemo govoriti o:\n",
    "1. indeksiranju tabele radi fleksibilnijeg pristupa elementima tabele;\n",
    "2. pristupu vrstama i pojedinačnim lokacijama indeksirane tabele;\n",
    "3. računanju sa celim redovima i kolonama tabele; i\n",
    "4. transponovanju tabele."
   ]
  },
  {
   "cell_type": "markdown",
   "metadata": {},
   "source": [
    "## 7.1. Indeksiranje"
   ]
  },
  {
   "cell_type": "markdown",
   "metadata": {},
   "source": [
    "Videli smo da je rad sa kolonama tabele veoma jednostavan.\n",
    "\n",
    "Da bismo mogli da radimo sa redovima tabele treba prvo da nađemo jednu kolonu čija vrednost jednoznačno određuje ceo red tabele. Na primer, u tabeli sa sa prošlog časa\n",
    "\n",
    "| __Ime__ | __Pol__ | __Starost__ | __Masa__ | __Visina__ |\n",
    "|---|---|---|---|---|\n",
    "|      Ana | ž | 13 | 46 | 160 |\n",
    "|    Bojan | m | 14 | 52 | 165 |\n",
    "|    Vlada | m | 13 | 47 | 157 |\n",
    "|  Gordana | ž | 15 | 54 | 165 |\n",
    "|    Dejan | m | 15 | 56 | 163 |\n",
    "|    Đorđe | m | 13 | 45 | 159 |\n",
    "|    Elena | ž | 14 | 49 | 161 |\n",
    "|  Žaklina | ž | 15 | 52 | 164 |\n",
    "|    Zoran | m | 15 | 57 | 167 |\n",
    "|    Ivana | ž | 13 | 45 | 158 |\n",
    "|    Jasna | ž | 14 | 51 | 162 |\n",
    "\n",
    "kolona \"Ime\" je takva kolona (kolona \"Visina\" nije pogodna jer imamo dvoje dece sa visinom 165, pa kada kažemo \"dete sa visinom 165\" nije jasno o kome se radi; isto tako ni kolone \"Pol\", \"Starost\" i \"Masa\" nisu pogodne).\n",
    "\n",
    "Takva kolona se zove _ključ_ jer je ona _ključna_ za pristupanje redovima tabele. Ako želimo da pristupamo elementima tabele po redovima, moramo sistemu da prijavimo koju kolonu ćemo koristiti kao ključ. To se postiže pozivom funkcije `set_index` kojoj prosledimo ime kolone, a ona vrati novu tabelu \"indeksiranu po datom ključu\":"
   ]
  },
  {
   "cell_type": "code",
   "execution_count": 1,
   "metadata": {},
   "outputs": [],
   "source": [
    "import pandas as pd\n",
    "podaci = [[\"Ana\",     \"ž\", 13, 46, 160],\n",
    "          [\"Bojan\",   \"m\", 14, 52, 165],\n",
    "          [\"Vlada\",   \"m\", 13, 47, 157],\n",
    "          [\"Gordana\", \"ž\", 15, 54, 165],\n",
    "          [\"Dejan\",   \"m\", 15, 56, 163],\n",
    "          [\"Đorđe\",   \"m\", 13, 45, 159],\n",
    "          [\"Elena\",   \"ž\", 14, 49, 161],\n",
    "          [\"Žaklina\", \"ž\", 15, 52, 164],\n",
    "          [\"Zoran\",   \"m\", 15, 57, 167],\n",
    "          [\"Ivana\",   \"ž\", 13, 45, 158],\n",
    "          [\"Jasna\",   \"ž\", 14, 51, 162]]\n",
    "tabela = pd.DataFrame(podaci)\n",
    "tabela.columns=[\"Ime\", \"Pol\", \"Starost\", \"Masa\", \"Visina\"]\n",
    "tabela1=tabela.set_index(\"Ime\")"
   ]
  },
  {
   "cell_type": "markdown",
   "metadata": {},
   "source": [
    "Nova tabela (`tabela1`) se od stare (`tabela`) razlikuje samo po tome što redovi više nisu indeksirani brojevima (0, 1, 2, ...) već imenima dece (Ana, Bojan, Vlada, ...). Evo stare (neindeksirane tabele) koja ima kolonu \"Ime\" i čiji redovi su indeksirani brojevima:"
   ]
  },
  {
   "cell_type": "code",
   "execution_count": 2,
   "metadata": {},
   "outputs": [
    {
     "data": {
      "text/html": [
       "<div>\n",
       "<style scoped>\n",
       "    .dataframe tbody tr th:only-of-type {\n",
       "        vertical-align: middle;\n",
       "    }\n",
       "\n",
       "    .dataframe tbody tr th {\n",
       "        vertical-align: top;\n",
       "    }\n",
       "\n",
       "    .dataframe thead th {\n",
       "        text-align: right;\n",
       "    }\n",
       "</style>\n",
       "<table border=\"1\" class=\"dataframe\">\n",
       "  <thead>\n",
       "    <tr style=\"text-align: right;\">\n",
       "      <th></th>\n",
       "      <th>Ime</th>\n",
       "      <th>Pol</th>\n",
       "      <th>Starost</th>\n",
       "      <th>Masa</th>\n",
       "      <th>Visina</th>\n",
       "    </tr>\n",
       "  </thead>\n",
       "  <tbody>\n",
       "    <tr>\n",
       "      <th>0</th>\n",
       "      <td>Ana</td>\n",
       "      <td>ž</td>\n",
       "      <td>13</td>\n",
       "      <td>46</td>\n",
       "      <td>160</td>\n",
       "    </tr>\n",
       "    <tr>\n",
       "      <th>1</th>\n",
       "      <td>Bojan</td>\n",
       "      <td>m</td>\n",
       "      <td>14</td>\n",
       "      <td>52</td>\n",
       "      <td>165</td>\n",
       "    </tr>\n",
       "    <tr>\n",
       "      <th>2</th>\n",
       "      <td>Vlada</td>\n",
       "      <td>m</td>\n",
       "      <td>13</td>\n",
       "      <td>47</td>\n",
       "      <td>157</td>\n",
       "    </tr>\n",
       "    <tr>\n",
       "      <th>3</th>\n",
       "      <td>Gordana</td>\n",
       "      <td>ž</td>\n",
       "      <td>15</td>\n",
       "      <td>54</td>\n",
       "      <td>165</td>\n",
       "    </tr>\n",
       "    <tr>\n",
       "      <th>4</th>\n",
       "      <td>Dejan</td>\n",
       "      <td>m</td>\n",
       "      <td>15</td>\n",
       "      <td>56</td>\n",
       "      <td>163</td>\n",
       "    </tr>\n",
       "    <tr>\n",
       "      <th>5</th>\n",
       "      <td>Đorđe</td>\n",
       "      <td>m</td>\n",
       "      <td>13</td>\n",
       "      <td>45</td>\n",
       "      <td>159</td>\n",
       "    </tr>\n",
       "    <tr>\n",
       "      <th>6</th>\n",
       "      <td>Elena</td>\n",
       "      <td>ž</td>\n",
       "      <td>14</td>\n",
       "      <td>49</td>\n",
       "      <td>161</td>\n",
       "    </tr>\n",
       "    <tr>\n",
       "      <th>7</th>\n",
       "      <td>Žaklina</td>\n",
       "      <td>ž</td>\n",
       "      <td>15</td>\n",
       "      <td>52</td>\n",
       "      <td>164</td>\n",
       "    </tr>\n",
       "    <tr>\n",
       "      <th>8</th>\n",
       "      <td>Zoran</td>\n",
       "      <td>m</td>\n",
       "      <td>15</td>\n",
       "      <td>57</td>\n",
       "      <td>167</td>\n",
       "    </tr>\n",
       "    <tr>\n",
       "      <th>9</th>\n",
       "      <td>Ivana</td>\n",
       "      <td>ž</td>\n",
       "      <td>13</td>\n",
       "      <td>45</td>\n",
       "      <td>158</td>\n",
       "    </tr>\n",
       "    <tr>\n",
       "      <th>10</th>\n",
       "      <td>Jasna</td>\n",
       "      <td>ž</td>\n",
       "      <td>14</td>\n",
       "      <td>51</td>\n",
       "      <td>162</td>\n",
       "    </tr>\n",
       "  </tbody>\n",
       "</table>\n",
       "</div>"
      ],
      "text/plain": [
       "        Ime Pol  Starost  Masa  Visina\n",
       "0       Ana   ž       13    46     160\n",
       "1     Bojan   m       14    52     165\n",
       "2     Vlada   m       13    47     157\n",
       "3   Gordana   ž       15    54     165\n",
       "4     Dejan   m       15    56     163\n",
       "5     Đorđe   m       13    45     159\n",
       "6     Elena   ž       14    49     161\n",
       "7   Žaklina   ž       15    52     164\n",
       "8     Zoran   m       15    57     167\n",
       "9     Ivana   ž       13    45     158\n",
       "10    Jasna   ž       14    51     162"
      ]
     },
     "execution_count": 2,
     "metadata": {},
     "output_type": "execute_result"
    }
   ],
   "source": [
    "tabela"
   ]
  },
  {
   "cell_type": "markdown",
   "metadata": {},
   "source": [
    "A evo i nove tabele u kojoj su redovi indeksirani imenima dece:"
   ]
  },
  {
   "cell_type": "code",
   "execution_count": 3,
   "metadata": {},
   "outputs": [
    {
     "data": {
      "text/html": [
       "<div>\n",
       "<style scoped>\n",
       "    .dataframe tbody tr th:only-of-type {\n",
       "        vertical-align: middle;\n",
       "    }\n",
       "\n",
       "    .dataframe tbody tr th {\n",
       "        vertical-align: top;\n",
       "    }\n",
       "\n",
       "    .dataframe thead th {\n",
       "        text-align: right;\n",
       "    }\n",
       "</style>\n",
       "<table border=\"1\" class=\"dataframe\">\n",
       "  <thead>\n",
       "    <tr style=\"text-align: right;\">\n",
       "      <th></th>\n",
       "      <th>Pol</th>\n",
       "      <th>Starost</th>\n",
       "      <th>Masa</th>\n",
       "      <th>Visina</th>\n",
       "    </tr>\n",
       "    <tr>\n",
       "      <th>Ime</th>\n",
       "      <th></th>\n",
       "      <th></th>\n",
       "      <th></th>\n",
       "      <th></th>\n",
       "    </tr>\n",
       "  </thead>\n",
       "  <tbody>\n",
       "    <tr>\n",
       "      <th>Ana</th>\n",
       "      <td>ž</td>\n",
       "      <td>13</td>\n",
       "      <td>46</td>\n",
       "      <td>160</td>\n",
       "    </tr>\n",
       "    <tr>\n",
       "      <th>Bojan</th>\n",
       "      <td>m</td>\n",
       "      <td>14</td>\n",
       "      <td>52</td>\n",
       "      <td>165</td>\n",
       "    </tr>\n",
       "    <tr>\n",
       "      <th>Vlada</th>\n",
       "      <td>m</td>\n",
       "      <td>13</td>\n",
       "      <td>47</td>\n",
       "      <td>157</td>\n",
       "    </tr>\n",
       "    <tr>\n",
       "      <th>Gordana</th>\n",
       "      <td>ž</td>\n",
       "      <td>15</td>\n",
       "      <td>54</td>\n",
       "      <td>165</td>\n",
       "    </tr>\n",
       "    <tr>\n",
       "      <th>Dejan</th>\n",
       "      <td>m</td>\n",
       "      <td>15</td>\n",
       "      <td>56</td>\n",
       "      <td>163</td>\n",
       "    </tr>\n",
       "    <tr>\n",
       "      <th>Đorđe</th>\n",
       "      <td>m</td>\n",
       "      <td>13</td>\n",
       "      <td>45</td>\n",
       "      <td>159</td>\n",
       "    </tr>\n",
       "    <tr>\n",
       "      <th>Elena</th>\n",
       "      <td>ž</td>\n",
       "      <td>14</td>\n",
       "      <td>49</td>\n",
       "      <td>161</td>\n",
       "    </tr>\n",
       "    <tr>\n",
       "      <th>Žaklina</th>\n",
       "      <td>ž</td>\n",
       "      <td>15</td>\n",
       "      <td>52</td>\n",
       "      <td>164</td>\n",
       "    </tr>\n",
       "    <tr>\n",
       "      <th>Zoran</th>\n",
       "      <td>m</td>\n",
       "      <td>15</td>\n",
       "      <td>57</td>\n",
       "      <td>167</td>\n",
       "    </tr>\n",
       "    <tr>\n",
       "      <th>Ivana</th>\n",
       "      <td>ž</td>\n",
       "      <td>13</td>\n",
       "      <td>45</td>\n",
       "      <td>158</td>\n",
       "    </tr>\n",
       "    <tr>\n",
       "      <th>Jasna</th>\n",
       "      <td>ž</td>\n",
       "      <td>14</td>\n",
       "      <td>51</td>\n",
       "      <td>162</td>\n",
       "    </tr>\n",
       "  </tbody>\n",
       "</table>\n",
       "</div>"
      ],
      "text/plain": [
       "        Pol  Starost  Masa  Visina\n",
       "Ime                               \n",
       "Ana       ž       13    46     160\n",
       "Bojan     m       14    52     165\n",
       "Vlada     m       13    47     157\n",
       "Gordana   ž       15    54     165\n",
       "Dejan     m       15    56     163\n",
       "Đorđe     m       13    45     159\n",
       "Elena     ž       14    49     161\n",
       "Žaklina   ž       15    52     164\n",
       "Zoran     m       15    57     167\n",
       "Ivana     ž       13    45     158\n",
       "Jasna     ž       14    51     162"
      ]
     },
     "execution_count": 3,
     "metadata": {},
     "output_type": "execute_result"
    }
   ],
   "source": [
    "tabela1"
   ]
  },
  {
   "cell_type": "markdown",
   "metadata": {},
   "source": [
    "Kolona \"Ime\" je i dalje prisutna u tabeli `tabela1`, ali ima poseban status. Ako pokušamo da joj pristupimo kao \"običnoj\" koloni dobićemo grešku:"
   ]
  },
  {
   "cell_type": "code",
   "execution_count": 4,
   "metadata": {},
   "outputs": [
    {
     "ename": "KeyError",
     "evalue": "'Ime'",
     "output_type": "error",
     "traceback": [
      "\u001b[1;31m---------------------------------------------------------------------------\u001b[0m",
      "\u001b[1;31mKeyError\u001b[0m                                  Traceback (most recent call last)",
      "\u001b[1;32mC:\\ProgramData\\Anaconda3\\lib\\site-packages\\pandas\\core\\indexes\\base.py\u001b[0m in \u001b[0;36mget_loc\u001b[1;34m(self, key, method, tolerance)\u001b[0m\n\u001b[0;32m   3077\u001b[0m             \u001b[1;32mtry\u001b[0m\u001b[1;33m:\u001b[0m\u001b[1;33m\u001b[0m\u001b[1;33m\u001b[0m\u001b[0m\n\u001b[1;32m-> 3078\u001b[1;33m                 \u001b[1;32mreturn\u001b[0m \u001b[0mself\u001b[0m\u001b[1;33m.\u001b[0m\u001b[0m_engine\u001b[0m\u001b[1;33m.\u001b[0m\u001b[0mget_loc\u001b[0m\u001b[1;33m(\u001b[0m\u001b[0mkey\u001b[0m\u001b[1;33m)\u001b[0m\u001b[1;33m\u001b[0m\u001b[1;33m\u001b[0m\u001b[0m\n\u001b[0m\u001b[0;32m   3079\u001b[0m             \u001b[1;32mexcept\u001b[0m \u001b[0mKeyError\u001b[0m\u001b[1;33m:\u001b[0m\u001b[1;33m\u001b[0m\u001b[1;33m\u001b[0m\u001b[0m\n",
      "\u001b[1;32mpandas\\_libs\\index.pyx\u001b[0m in \u001b[0;36mpandas._libs.index.IndexEngine.get_loc\u001b[1;34m()\u001b[0m\n",
      "\u001b[1;32mpandas\\_libs\\index.pyx\u001b[0m in \u001b[0;36mpandas._libs.index.IndexEngine.get_loc\u001b[1;34m()\u001b[0m\n",
      "\u001b[1;32mpandas\\_libs\\hashtable_class_helper.pxi\u001b[0m in \u001b[0;36mpandas._libs.hashtable.PyObjectHashTable.get_item\u001b[1;34m()\u001b[0m\n",
      "\u001b[1;32mpandas\\_libs\\hashtable_class_helper.pxi\u001b[0m in \u001b[0;36mpandas._libs.hashtable.PyObjectHashTable.get_item\u001b[1;34m()\u001b[0m\n",
      "\u001b[1;31mKeyError\u001b[0m: 'Ime'",
      "\nDuring handling of the above exception, another exception occurred:\n",
      "\u001b[1;31mKeyError\u001b[0m                                  Traceback (most recent call last)",
      "\u001b[1;32m<ipython-input-4-b9221308e975>\u001b[0m in \u001b[0;36m<module>\u001b[1;34m\u001b[0m\n\u001b[1;32m----> 1\u001b[1;33m \u001b[0mtabela1\u001b[0m\u001b[1;33m[\u001b[0m\u001b[1;34m\"Ime\"\u001b[0m\u001b[1;33m]\u001b[0m\u001b[1;33m\u001b[0m\u001b[1;33m\u001b[0m\u001b[0m\n\u001b[0m",
      "\u001b[1;32mC:\\ProgramData\\Anaconda3\\lib\\site-packages\\pandas\\core\\frame.py\u001b[0m in \u001b[0;36m__getitem__\u001b[1;34m(self, key)\u001b[0m\n\u001b[0;32m   2686\u001b[0m             \u001b[1;32mreturn\u001b[0m \u001b[0mself\u001b[0m\u001b[1;33m.\u001b[0m\u001b[0m_getitem_multilevel\u001b[0m\u001b[1;33m(\u001b[0m\u001b[0mkey\u001b[0m\u001b[1;33m)\u001b[0m\u001b[1;33m\u001b[0m\u001b[1;33m\u001b[0m\u001b[0m\n\u001b[0;32m   2687\u001b[0m         \u001b[1;32melse\u001b[0m\u001b[1;33m:\u001b[0m\u001b[1;33m\u001b[0m\u001b[1;33m\u001b[0m\u001b[0m\n\u001b[1;32m-> 2688\u001b[1;33m             \u001b[1;32mreturn\u001b[0m \u001b[0mself\u001b[0m\u001b[1;33m.\u001b[0m\u001b[0m_getitem_column\u001b[0m\u001b[1;33m(\u001b[0m\u001b[0mkey\u001b[0m\u001b[1;33m)\u001b[0m\u001b[1;33m\u001b[0m\u001b[1;33m\u001b[0m\u001b[0m\n\u001b[0m\u001b[0;32m   2689\u001b[0m \u001b[1;33m\u001b[0m\u001b[0m\n\u001b[0;32m   2690\u001b[0m     \u001b[1;32mdef\u001b[0m \u001b[0m_getitem_column\u001b[0m\u001b[1;33m(\u001b[0m\u001b[0mself\u001b[0m\u001b[1;33m,\u001b[0m \u001b[0mkey\u001b[0m\u001b[1;33m)\u001b[0m\u001b[1;33m:\u001b[0m\u001b[1;33m\u001b[0m\u001b[1;33m\u001b[0m\u001b[0m\n",
      "\u001b[1;32mC:\\ProgramData\\Anaconda3\\lib\\site-packages\\pandas\\core\\frame.py\u001b[0m in \u001b[0;36m_getitem_column\u001b[1;34m(self, key)\u001b[0m\n\u001b[0;32m   2693\u001b[0m         \u001b[1;31m# get column\u001b[0m\u001b[1;33m\u001b[0m\u001b[1;33m\u001b[0m\u001b[1;33m\u001b[0m\u001b[0m\n\u001b[0;32m   2694\u001b[0m         \u001b[1;32mif\u001b[0m \u001b[0mself\u001b[0m\u001b[1;33m.\u001b[0m\u001b[0mcolumns\u001b[0m\u001b[1;33m.\u001b[0m\u001b[0mis_unique\u001b[0m\u001b[1;33m:\u001b[0m\u001b[1;33m\u001b[0m\u001b[1;33m\u001b[0m\u001b[0m\n\u001b[1;32m-> 2695\u001b[1;33m             \u001b[1;32mreturn\u001b[0m \u001b[0mself\u001b[0m\u001b[1;33m.\u001b[0m\u001b[0m_get_item_cache\u001b[0m\u001b[1;33m(\u001b[0m\u001b[0mkey\u001b[0m\u001b[1;33m)\u001b[0m\u001b[1;33m\u001b[0m\u001b[1;33m\u001b[0m\u001b[0m\n\u001b[0m\u001b[0;32m   2696\u001b[0m \u001b[1;33m\u001b[0m\u001b[0m\n\u001b[0;32m   2697\u001b[0m         \u001b[1;31m# duplicate columns & possible reduce dimensionality\u001b[0m\u001b[1;33m\u001b[0m\u001b[1;33m\u001b[0m\u001b[1;33m\u001b[0m\u001b[0m\n",
      "\u001b[1;32mC:\\ProgramData\\Anaconda3\\lib\\site-packages\\pandas\\core\\generic.py\u001b[0m in \u001b[0;36m_get_item_cache\u001b[1;34m(self, item)\u001b[0m\n\u001b[0;32m   2487\u001b[0m         \u001b[0mres\u001b[0m \u001b[1;33m=\u001b[0m \u001b[0mcache\u001b[0m\u001b[1;33m.\u001b[0m\u001b[0mget\u001b[0m\u001b[1;33m(\u001b[0m\u001b[0mitem\u001b[0m\u001b[1;33m)\u001b[0m\u001b[1;33m\u001b[0m\u001b[1;33m\u001b[0m\u001b[0m\n\u001b[0;32m   2488\u001b[0m         \u001b[1;32mif\u001b[0m \u001b[0mres\u001b[0m \u001b[1;32mis\u001b[0m \u001b[1;32mNone\u001b[0m\u001b[1;33m:\u001b[0m\u001b[1;33m\u001b[0m\u001b[1;33m\u001b[0m\u001b[0m\n\u001b[1;32m-> 2489\u001b[1;33m             \u001b[0mvalues\u001b[0m \u001b[1;33m=\u001b[0m \u001b[0mself\u001b[0m\u001b[1;33m.\u001b[0m\u001b[0m_data\u001b[0m\u001b[1;33m.\u001b[0m\u001b[0mget\u001b[0m\u001b[1;33m(\u001b[0m\u001b[0mitem\u001b[0m\u001b[1;33m)\u001b[0m\u001b[1;33m\u001b[0m\u001b[1;33m\u001b[0m\u001b[0m\n\u001b[0m\u001b[0;32m   2490\u001b[0m             \u001b[0mres\u001b[0m \u001b[1;33m=\u001b[0m \u001b[0mself\u001b[0m\u001b[1;33m.\u001b[0m\u001b[0m_box_item_values\u001b[0m\u001b[1;33m(\u001b[0m\u001b[0mitem\u001b[0m\u001b[1;33m,\u001b[0m \u001b[0mvalues\u001b[0m\u001b[1;33m)\u001b[0m\u001b[1;33m\u001b[0m\u001b[1;33m\u001b[0m\u001b[0m\n\u001b[0;32m   2491\u001b[0m             \u001b[0mcache\u001b[0m\u001b[1;33m[\u001b[0m\u001b[0mitem\u001b[0m\u001b[1;33m]\u001b[0m \u001b[1;33m=\u001b[0m \u001b[0mres\u001b[0m\u001b[1;33m\u001b[0m\u001b[1;33m\u001b[0m\u001b[0m\n",
      "\u001b[1;32mC:\\ProgramData\\Anaconda3\\lib\\site-packages\\pandas\\core\\internals.py\u001b[0m in \u001b[0;36mget\u001b[1;34m(self, item, fastpath)\u001b[0m\n\u001b[0;32m   4113\u001b[0m \u001b[1;33m\u001b[0m\u001b[0m\n\u001b[0;32m   4114\u001b[0m             \u001b[1;32mif\u001b[0m \u001b[1;32mnot\u001b[0m \u001b[0misna\u001b[0m\u001b[1;33m(\u001b[0m\u001b[0mitem\u001b[0m\u001b[1;33m)\u001b[0m\u001b[1;33m:\u001b[0m\u001b[1;33m\u001b[0m\u001b[1;33m\u001b[0m\u001b[0m\n\u001b[1;32m-> 4115\u001b[1;33m                 \u001b[0mloc\u001b[0m \u001b[1;33m=\u001b[0m \u001b[0mself\u001b[0m\u001b[1;33m.\u001b[0m\u001b[0mitems\u001b[0m\u001b[1;33m.\u001b[0m\u001b[0mget_loc\u001b[0m\u001b[1;33m(\u001b[0m\u001b[0mitem\u001b[0m\u001b[1;33m)\u001b[0m\u001b[1;33m\u001b[0m\u001b[1;33m\u001b[0m\u001b[0m\n\u001b[0m\u001b[0;32m   4116\u001b[0m             \u001b[1;32melse\u001b[0m\u001b[1;33m:\u001b[0m\u001b[1;33m\u001b[0m\u001b[1;33m\u001b[0m\u001b[0m\n\u001b[0;32m   4117\u001b[0m                 \u001b[0mindexer\u001b[0m \u001b[1;33m=\u001b[0m \u001b[0mnp\u001b[0m\u001b[1;33m.\u001b[0m\u001b[0marange\u001b[0m\u001b[1;33m(\u001b[0m\u001b[0mlen\u001b[0m\u001b[1;33m(\u001b[0m\u001b[0mself\u001b[0m\u001b[1;33m.\u001b[0m\u001b[0mitems\u001b[0m\u001b[1;33m)\u001b[0m\u001b[1;33m)\u001b[0m\u001b[1;33m[\u001b[0m\u001b[0misna\u001b[0m\u001b[1;33m(\u001b[0m\u001b[0mself\u001b[0m\u001b[1;33m.\u001b[0m\u001b[0mitems\u001b[0m\u001b[1;33m)\u001b[0m\u001b[1;33m]\u001b[0m\u001b[1;33m\u001b[0m\u001b[1;33m\u001b[0m\u001b[0m\n",
      "\u001b[1;32mC:\\ProgramData\\Anaconda3\\lib\\site-packages\\pandas\\core\\indexes\\base.py\u001b[0m in \u001b[0;36mget_loc\u001b[1;34m(self, key, method, tolerance)\u001b[0m\n\u001b[0;32m   3078\u001b[0m                 \u001b[1;32mreturn\u001b[0m \u001b[0mself\u001b[0m\u001b[1;33m.\u001b[0m\u001b[0m_engine\u001b[0m\u001b[1;33m.\u001b[0m\u001b[0mget_loc\u001b[0m\u001b[1;33m(\u001b[0m\u001b[0mkey\u001b[0m\u001b[1;33m)\u001b[0m\u001b[1;33m\u001b[0m\u001b[1;33m\u001b[0m\u001b[0m\n\u001b[0;32m   3079\u001b[0m             \u001b[1;32mexcept\u001b[0m \u001b[0mKeyError\u001b[0m\u001b[1;33m:\u001b[0m\u001b[1;33m\u001b[0m\u001b[1;33m\u001b[0m\u001b[0m\n\u001b[1;32m-> 3080\u001b[1;33m                 \u001b[1;32mreturn\u001b[0m \u001b[0mself\u001b[0m\u001b[1;33m.\u001b[0m\u001b[0m_engine\u001b[0m\u001b[1;33m.\u001b[0m\u001b[0mget_loc\u001b[0m\u001b[1;33m(\u001b[0m\u001b[0mself\u001b[0m\u001b[1;33m.\u001b[0m\u001b[0m_maybe_cast_indexer\u001b[0m\u001b[1;33m(\u001b[0m\u001b[0mkey\u001b[0m\u001b[1;33m)\u001b[0m\u001b[1;33m)\u001b[0m\u001b[1;33m\u001b[0m\u001b[1;33m\u001b[0m\u001b[0m\n\u001b[0m\u001b[0;32m   3081\u001b[0m \u001b[1;33m\u001b[0m\u001b[0m\n\u001b[0;32m   3082\u001b[0m         \u001b[0mindexer\u001b[0m \u001b[1;33m=\u001b[0m \u001b[0mself\u001b[0m\u001b[1;33m.\u001b[0m\u001b[0mget_indexer\u001b[0m\u001b[1;33m(\u001b[0m\u001b[1;33m[\u001b[0m\u001b[0mkey\u001b[0m\u001b[1;33m]\u001b[0m\u001b[1;33m,\u001b[0m \u001b[0mmethod\u001b[0m\u001b[1;33m=\u001b[0m\u001b[0mmethod\u001b[0m\u001b[1;33m,\u001b[0m \u001b[0mtolerance\u001b[0m\u001b[1;33m=\u001b[0m\u001b[0mtolerance\u001b[0m\u001b[1;33m)\u001b[0m\u001b[1;33m\u001b[0m\u001b[1;33m\u001b[0m\u001b[0m\n",
      "\u001b[1;32mpandas\\_libs\\index.pyx\u001b[0m in \u001b[0;36mpandas._libs.index.IndexEngine.get_loc\u001b[1;34m()\u001b[0m\n",
      "\u001b[1;32mpandas\\_libs\\index.pyx\u001b[0m in \u001b[0;36mpandas._libs.index.IndexEngine.get_loc\u001b[1;34m()\u001b[0m\n",
      "\u001b[1;32mpandas\\_libs\\hashtable_class_helper.pxi\u001b[0m in \u001b[0;36mpandas._libs.hashtable.PyObjectHashTable.get_item\u001b[1;34m()\u001b[0m\n",
      "\u001b[1;32mpandas\\_libs\\hashtable_class_helper.pxi\u001b[0m in \u001b[0;36mpandas._libs.hashtable.PyObjectHashTable.get_item\u001b[1;34m()\u001b[0m\n",
      "\u001b[1;31mKeyError\u001b[0m: 'Ime'"
     ]
    }
   ],
   "source": [
    "tabela1[\"Ime\"]"
   ]
  },
  {
   "cell_type": "markdown",
   "metadata": {},
   "source": [
    "Međutim, ona je tu kao _indeksna kolona_:"
   ]
  },
  {
   "cell_type": "code",
   "execution_count": 5,
   "metadata": {},
   "outputs": [
    {
     "data": {
      "text/plain": [
       "Index(['Ana', 'Bojan', 'Vlada', 'Gordana', 'Dejan', 'Đorđe', 'Elena',\n",
       "       'Žaklina', 'Zoran', 'Ivana', 'Jasna'],\n",
       "      dtype='object', name='Ime')"
      ]
     },
     "execution_count": 5,
     "metadata": {},
     "output_type": "execute_result"
    }
   ],
   "source": [
    "tabela1.index"
   ]
  },
  {
   "cell_type": "markdown",
   "metadata": {},
   "source": [
    "Ako želimo da prikažemo visinu dece u grupi grafikonom tako da imena dece budu na horizontalnoj osi, to sada možemo uraditi ovako:"
   ]
  },
  {
   "cell_type": "code",
   "execution_count": 6,
   "metadata": {},
   "outputs": [
    {
     "data": {
      "text/plain": [
       "<Figure size 1000x500 with 1 Axes>"
      ]
     },
     "metadata": {},
     "output_type": "display_data"
    }
   ],
   "source": [
    "import matplotlib.pyplot as plt\n",
    "plt.figure(figsize=(10,5))\n",
    "plt.bar(tabela1.index, tabela1[\"Visina\"])\n",
    "plt.title(\"Visina dece u grupi\")\n",
    "plt.show()\n",
    "plt.close()"
   ]
  },
  {
   "cell_type": "markdown",
   "metadata": {},
   "source": [
    "Oznake na horizontalnoj osi uzimamo iz indeksne kolone `tabela1.index`, dok podatke o visini stubića uzimamo iz kolone `tabela1[\"Visina\"]`."
   ]
  },
  {
   "cell_type": "markdown",
   "metadata": {},
   "source": [
    "## 7.2. Pristup vrstama i pojedinačnim ćelijama indeksirane tabele"
   ]
  },
  {
   "cell_type": "markdown",
   "metadata": {},
   "source": [
    "Struktura podataka _DataFrame_ je optimizovana za rad sa kolonama tabele. Srećom, kada imamo indeksiranu tabelu kao što je to `tabela1`, koristeći funkciju `loc` (od engl. _location_ što znači \"lokacija, položaj, mesto\") možemo da pristupamo redovima tabele, kao i pojedinačnim ćelijama tabele.\n",
    "\n",
    "Podatke o pojedinačnim redovima tabele možemo da vidimo ovako:"
   ]
  },
  {
   "cell_type": "code",
   "execution_count": 7,
   "metadata": {},
   "outputs": [
    {
     "data": {
      "text/plain": [
       "Pol          m\n",
       "Starost     15\n",
       "Masa        56\n",
       "Visina     163\n",
       "Name: Dejan, dtype: object"
      ]
     },
     "execution_count": 7,
     "metadata": {},
     "output_type": "execute_result"
    }
   ],
   "source": [
    "tabela1.loc[\"Dejan\"]"
   ]
  },
  {
   "cell_type": "markdown",
   "metadata": {},
   "source": [
    "Kao argument funkcije `loc` možemo da navedemo i raspon, i tako ćemo dobiti odgovarajući deo tabele:"
   ]
  },
  {
   "cell_type": "code",
   "execution_count": 8,
   "metadata": {},
   "outputs": [
    {
     "data": {
      "text/html": [
       "<div>\n",
       "<style scoped>\n",
       "    .dataframe tbody tr th:only-of-type {\n",
       "        vertical-align: middle;\n",
       "    }\n",
       "\n",
       "    .dataframe tbody tr th {\n",
       "        vertical-align: top;\n",
       "    }\n",
       "\n",
       "    .dataframe thead th {\n",
       "        text-align: right;\n",
       "    }\n",
       "</style>\n",
       "<table border=\"1\" class=\"dataframe\">\n",
       "  <thead>\n",
       "    <tr style=\"text-align: right;\">\n",
       "      <th></th>\n",
       "      <th>Pol</th>\n",
       "      <th>Starost</th>\n",
       "      <th>Masa</th>\n",
       "      <th>Visina</th>\n",
       "    </tr>\n",
       "    <tr>\n",
       "      <th>Ime</th>\n",
       "      <th></th>\n",
       "      <th></th>\n",
       "      <th></th>\n",
       "      <th></th>\n",
       "    </tr>\n",
       "  </thead>\n",
       "  <tbody>\n",
       "    <tr>\n",
       "      <th>Dejan</th>\n",
       "      <td>m</td>\n",
       "      <td>15</td>\n",
       "      <td>56</td>\n",
       "      <td>163</td>\n",
       "    </tr>\n",
       "    <tr>\n",
       "      <th>Đorđe</th>\n",
       "      <td>m</td>\n",
       "      <td>13</td>\n",
       "      <td>45</td>\n",
       "      <td>159</td>\n",
       "    </tr>\n",
       "    <tr>\n",
       "      <th>Elena</th>\n",
       "      <td>ž</td>\n",
       "      <td>14</td>\n",
       "      <td>49</td>\n",
       "      <td>161</td>\n",
       "    </tr>\n",
       "    <tr>\n",
       "      <th>Žaklina</th>\n",
       "      <td>ž</td>\n",
       "      <td>15</td>\n",
       "      <td>52</td>\n",
       "      <td>164</td>\n",
       "    </tr>\n",
       "    <tr>\n",
       "      <th>Zoran</th>\n",
       "      <td>m</td>\n",
       "      <td>15</td>\n",
       "      <td>57</td>\n",
       "      <td>167</td>\n",
       "    </tr>\n",
       "  </tbody>\n",
       "</table>\n",
       "</div>"
      ],
      "text/plain": [
       "        Pol  Starost  Masa  Visina\n",
       "Ime                               \n",
       "Dejan     m       15    56     163\n",
       "Đorđe     m       13    45     159\n",
       "Elena     ž       14    49     161\n",
       "Žaklina   ž       15    52     164\n",
       "Zoran     m       15    57     167"
      ]
     },
     "execution_count": 8,
     "metadata": {},
     "output_type": "execute_result"
    }
   ],
   "source": [
    "tabela1.loc[\"Dejan\":\"Zoran\"]"
   ]
  },
  {
   "cell_type": "markdown",
   "metadata": {},
   "source": [
    "Ako kao drugi argument funkcije `loc` navedemo ime kolone, recimo ovako:\n",
    "\n",
    "    tabela1.loc[\"Dejan\", \"Visina\"]\n",
    "\n",
    "dobićemo informaciju o Dejanovoj visini."
   ]
  },
  {
   "cell_type": "code",
   "execution_count": 9,
   "metadata": {},
   "outputs": [
    {
     "data": {
      "text/plain": [
       "163"
      ]
     },
     "execution_count": 9,
     "metadata": {},
     "output_type": "execute_result"
    }
   ],
   "source": [
    "tabela1.loc[\"Dejan\", \"Visina\"]"
   ]
  },
  {
   "cell_type": "markdown",
   "metadata": {},
   "source": [
    "Evo kako možemo da dobijemo informaciju o masi i visini nekoliko dece:"
   ]
  },
  {
   "cell_type": "code",
   "execution_count": 10,
   "metadata": {},
   "outputs": [
    {
     "data": {
      "text/html": [
       "<div>\n",
       "<style scoped>\n",
       "    .dataframe tbody tr th:only-of-type {\n",
       "        vertical-align: middle;\n",
       "    }\n",
       "\n",
       "    .dataframe tbody tr th {\n",
       "        vertical-align: top;\n",
       "    }\n",
       "\n",
       "    .dataframe thead th {\n",
       "        text-align: right;\n",
       "    }\n",
       "</style>\n",
       "<table border=\"1\" class=\"dataframe\">\n",
       "  <thead>\n",
       "    <tr style=\"text-align: right;\">\n",
       "      <th></th>\n",
       "      <th>Masa</th>\n",
       "      <th>Visina</th>\n",
       "    </tr>\n",
       "    <tr>\n",
       "      <th>Ime</th>\n",
       "      <th></th>\n",
       "      <th></th>\n",
       "    </tr>\n",
       "  </thead>\n",
       "  <tbody>\n",
       "    <tr>\n",
       "      <th>Dejan</th>\n",
       "      <td>56</td>\n",
       "      <td>163</td>\n",
       "    </tr>\n",
       "    <tr>\n",
       "      <th>Đorđe</th>\n",
       "      <td>45</td>\n",
       "      <td>159</td>\n",
       "    </tr>\n",
       "    <tr>\n",
       "      <th>Elena</th>\n",
       "      <td>49</td>\n",
       "      <td>161</td>\n",
       "    </tr>\n",
       "    <tr>\n",
       "      <th>Žaklina</th>\n",
       "      <td>52</td>\n",
       "      <td>164</td>\n",
       "    </tr>\n",
       "    <tr>\n",
       "      <th>Zoran</th>\n",
       "      <td>57</td>\n",
       "      <td>167</td>\n",
       "    </tr>\n",
       "  </tbody>\n",
       "</table>\n",
       "</div>"
      ],
      "text/plain": [
       "         Masa  Visina\n",
       "Ime                  \n",
       "Dejan      56     163\n",
       "Đorđe      45     159\n",
       "Elena      49     161\n",
       "Žaklina    52     164\n",
       "Zoran      57     167"
      ]
     },
     "execution_count": 10,
     "metadata": {},
     "output_type": "execute_result"
    }
   ],
   "source": [
    "tabela1.loc[\"Dejan\":\"Zoran\", \"Masa\":\"Visina\"]"
   ]
  },
  {
   "cell_type": "markdown",
   "metadata": {},
   "source": [
    "## 7.3. Račun po vrstama i kolonama tabele"
   ]
  },
  {
   "cell_type": "markdown",
   "metadata": {},
   "source": [
    "Krenimo od jednog primera. U ćeliji ispod date su ocene nekih učenika iz informatike, engleskog, matematike, fizike, hemije i likovnog:"
   ]
  },
  {
   "cell_type": "code",
   "execution_count": 11,
   "metadata": {},
   "outputs": [],
   "source": [
    "razred = [[\"Ana\",     5, 3, 5, 2, 4, 5],\n",
    "          [\"Bojan\",   5, 5, 5, 5, 5, 5],\n",
    "          [\"Vlada\",   4, 5, 3, 4, 5, 4],\n",
    "          [\"Gordana\", 5, 5, 5, 5, 5, 5],\n",
    "          [\"Dejan\",   3, 4, 2, 3, 3, 4],\n",
    "          [\"Đorđe\",   4, 5, 3, 4, 5, 4],\n",
    "          [\"Elena\",   3, 3, 3, 4, 2, 3],\n",
    "          [\"Žaklina\", 5, 5, 4, 5, 4, 5],\n",
    "          [\"Zoran\",   4, 5, 4, 4, 3, 5],\n",
    "          [\"Ivana\",   2, 2, 2, 2, 2, 5],\n",
    "          [\"Jasna\",   3, 4, 5, 4, 5, 5]]"
   ]
  },
  {
   "cell_type": "markdown",
   "metadata": {},
   "source": [
    "Sada ćemo od ovih podataka napraviti tabelu čije kolone će se zvati \"Ime\", \"Informatika\", \"Engleski\", \"Matematika\", \"Fizika\", \"Hemija\", \"Likovno\" i koja će biti indeksirana po koloni \"Ime\":"
   ]
  },
  {
   "cell_type": "code",
   "execution_count": 12,
   "metadata": {},
   "outputs": [
    {
     "data": {
      "text/html": [
       "<div>\n",
       "<style scoped>\n",
       "    .dataframe tbody tr th:only-of-type {\n",
       "        vertical-align: middle;\n",
       "    }\n",
       "\n",
       "    .dataframe tbody tr th {\n",
       "        vertical-align: top;\n",
       "    }\n",
       "\n",
       "    .dataframe thead th {\n",
       "        text-align: right;\n",
       "    }\n",
       "</style>\n",
       "<table border=\"1\" class=\"dataframe\">\n",
       "  <thead>\n",
       "    <tr style=\"text-align: right;\">\n",
       "      <th></th>\n",
       "      <th>Informatika</th>\n",
       "      <th>Engleski</th>\n",
       "      <th>Matematika</th>\n",
       "      <th>Fizika</th>\n",
       "      <th>Hemija</th>\n",
       "      <th>Likovno</th>\n",
       "    </tr>\n",
       "    <tr>\n",
       "      <th>Ime</th>\n",
       "      <th></th>\n",
       "      <th></th>\n",
       "      <th></th>\n",
       "      <th></th>\n",
       "      <th></th>\n",
       "      <th></th>\n",
       "    </tr>\n",
       "  </thead>\n",
       "  <tbody>\n",
       "    <tr>\n",
       "      <th>Ana</th>\n",
       "      <td>5</td>\n",
       "      <td>3</td>\n",
       "      <td>5</td>\n",
       "      <td>2</td>\n",
       "      <td>4</td>\n",
       "      <td>5</td>\n",
       "    </tr>\n",
       "    <tr>\n",
       "      <th>Bojan</th>\n",
       "      <td>5</td>\n",
       "      <td>5</td>\n",
       "      <td>5</td>\n",
       "      <td>5</td>\n",
       "      <td>5</td>\n",
       "      <td>5</td>\n",
       "    </tr>\n",
       "    <tr>\n",
       "      <th>Vlada</th>\n",
       "      <td>4</td>\n",
       "      <td>5</td>\n",
       "      <td>3</td>\n",
       "      <td>4</td>\n",
       "      <td>5</td>\n",
       "      <td>4</td>\n",
       "    </tr>\n",
       "    <tr>\n",
       "      <th>Gordana</th>\n",
       "      <td>5</td>\n",
       "      <td>5</td>\n",
       "      <td>5</td>\n",
       "      <td>5</td>\n",
       "      <td>5</td>\n",
       "      <td>5</td>\n",
       "    </tr>\n",
       "    <tr>\n",
       "      <th>Dejan</th>\n",
       "      <td>3</td>\n",
       "      <td>4</td>\n",
       "      <td>2</td>\n",
       "      <td>3</td>\n",
       "      <td>3</td>\n",
       "      <td>4</td>\n",
       "    </tr>\n",
       "    <tr>\n",
       "      <th>Đorđe</th>\n",
       "      <td>4</td>\n",
       "      <td>5</td>\n",
       "      <td>3</td>\n",
       "      <td>4</td>\n",
       "      <td>5</td>\n",
       "      <td>4</td>\n",
       "    </tr>\n",
       "    <tr>\n",
       "      <th>Elena</th>\n",
       "      <td>3</td>\n",
       "      <td>3</td>\n",
       "      <td>3</td>\n",
       "      <td>4</td>\n",
       "      <td>2</td>\n",
       "      <td>3</td>\n",
       "    </tr>\n",
       "    <tr>\n",
       "      <th>Žaklina</th>\n",
       "      <td>5</td>\n",
       "      <td>5</td>\n",
       "      <td>4</td>\n",
       "      <td>5</td>\n",
       "      <td>4</td>\n",
       "      <td>5</td>\n",
       "    </tr>\n",
       "    <tr>\n",
       "      <th>Zoran</th>\n",
       "      <td>4</td>\n",
       "      <td>5</td>\n",
       "      <td>4</td>\n",
       "      <td>4</td>\n",
       "      <td>3</td>\n",
       "      <td>5</td>\n",
       "    </tr>\n",
       "    <tr>\n",
       "      <th>Ivana</th>\n",
       "      <td>2</td>\n",
       "      <td>2</td>\n",
       "      <td>2</td>\n",
       "      <td>2</td>\n",
       "      <td>2</td>\n",
       "      <td>5</td>\n",
       "    </tr>\n",
       "    <tr>\n",
       "      <th>Jasna</th>\n",
       "      <td>3</td>\n",
       "      <td>4</td>\n",
       "      <td>5</td>\n",
       "      <td>4</td>\n",
       "      <td>5</td>\n",
       "      <td>5</td>\n",
       "    </tr>\n",
       "  </tbody>\n",
       "</table>\n",
       "</div>"
      ],
      "text/plain": [
       "         Informatika  Engleski  Matematika  Fizika  Hemija  Likovno\n",
       "Ime                                                                \n",
       "Ana                5         3           5       2       4        5\n",
       "Bojan              5         5           5       5       5        5\n",
       "Vlada              4         5           3       4       5        4\n",
       "Gordana            5         5           5       5       5        5\n",
       "Dejan              3         4           2       3       3        4\n",
       "Đorđe              4         5           3       4       5        4\n",
       "Elena              3         3           3       4       2        3\n",
       "Žaklina            5         5           4       5       4        5\n",
       "Zoran              4         5           4       4       3        5\n",
       "Ivana              2         2           2       2       2        5\n",
       "Jasna              3         4           5       4       5        5"
      ]
     },
     "execution_count": 12,
     "metadata": {},
     "output_type": "execute_result"
    }
   ],
   "source": [
    "ocene = pd.DataFrame(razred)\n",
    "ocene.columns=[\"Ime\", \"Informatika\", \"Engleski\", \"Matematika\", \"Fizika\", \"Hemija\", \"Likovno\"]\n",
    "ocene1 = ocene.set_index(\"Ime\")\n",
    "ocene1"
   ]
  },
  {
   "cell_type": "markdown",
   "metadata": {},
   "source": [
    "Ako želimo da izračunamo prosek po predmetima, treba na svaku kolonu ove tabele da primenimo funkciju `mean`. Lista sa imenima svih kolona tabele `ocene1` se dobija kao `ocene1.columns`, pa sada samo treba da prođemo kroz ovu listu i za svaku kolonu da izračunamo prosek:"
   ]
  },
  {
   "cell_type": "code",
   "execution_count": 13,
   "metadata": {},
   "outputs": [
    {
     "name": "stdout",
     "output_type": "stream",
     "text": [
      "Informatika -> 3.91\n",
      "Engleski -> 4.18\n",
      "Matematika -> 3.73\n",
      "Fizika -> 3.82\n",
      "Hemija -> 3.91\n",
      "Likovno -> 4.55\n"
     ]
    }
   ],
   "source": [
    "for predmet in ocene1.columns:\n",
    "    print(predmet, \"->\", round(ocene1[predmet].mean(), 2))"
   ]
  },
  {
   "cell_type": "markdown",
   "metadata": {},
   "source": [
    "Da bismo izračunali prosečne ocene svakog učenika funkciju `mean` ćemo primeniti na vrste tabele koje dobijamo pozivom funkcije `loc`. Pogledajmo, prvo, kako to možemo da uradimo za jednog učenika:"
   ]
  },
  {
   "cell_type": "code",
   "execution_count": 14,
   "metadata": {},
   "outputs": [
    {
     "name": "stdout",
     "output_type": "stream",
     "text": [
      "Đorđe ima sledeće ocene:\n",
      "Informatika    4\n",
      "Engleski       5\n",
      "Matematika     3\n",
      "Fizika         4\n",
      "Hemija         5\n",
      "Likovno        4\n",
      "Name: Đorđe, dtype: int64\n",
      "Prosek njegovih ocena je: 4.17\n"
     ]
    }
   ],
   "source": [
    "print(\"Đorđe ima sledeće ocene:\")\n",
    "print(ocene1.loc[\"Đorđe\"])\n",
    "print(\"Prosek njegovih ocena je:\", round(ocene1.loc[\"Đorđe\"].mean(), 2))"
   ]
  },
  {
   "cell_type": "markdown",
   "metadata": {},
   "source": [
    "Spisak svih učenika se nalazi u indeksnoj koloni, pa proseke po svim učenicima možemo da izračunamo ovako:"
   ]
  },
  {
   "cell_type": "code",
   "execution_count": 15,
   "metadata": {},
   "outputs": [
    {
     "name": "stdout",
     "output_type": "stream",
     "text": [
      "Ana -> 4.0\n",
      "Bojan -> 5.0\n",
      "Vlada -> 4.17\n",
      "Gordana -> 5.0\n",
      "Dejan -> 3.17\n",
      "Đorđe -> 4.17\n",
      "Elena -> 3.0\n",
      "Žaklina -> 4.67\n",
      "Zoran -> 4.17\n",
      "Ivana -> 2.5\n",
      "Jasna -> 4.33\n"
     ]
    }
   ],
   "source": [
    "for ucenik in ocene1.index:\n",
    "    print(ucenik, \"->\", round(ocene1.loc[ucenik].mean(), 2))"
   ]
  },
  {
   "cell_type": "markdown",
   "metadata": {},
   "source": [
    "## 7.4. Transponovanje tabele\n",
    "\n",
    "Zamena vrsta i kolona tabele se zove _transponovanje_. Prilikom transponovanja imena kolona polazne tabele postaju indeksi nove tabele, dok indeksna kolona polazne tabele određuje imena kolona nove tabele:\n",
    "\n",
    "![Transponovanje](slike/DataFrame-T.jpg)\n",
    "\n",
    "Transponovanje se često koristi kada tabela ima malo veoma dugačkih redova, pa je u nekim situacijama lakše posmatrati transponovanu tabelu koja onda ima puno relativno kratkih redova. Funkcije `head` i `tail` nam tada omogućuju da se brzo upoznamo sa početkom i krajem tabele i da steknemo neku intuiciju o tome kako tabela izgleda.\n",
    "\n",
    "Važno je reći i to da se sa tabelama može raditi i bez transponovanja, jer sve što možemo da uradimo na kolonama tabele možemo da uradimo i na vrstama. I pored toga, transponovanje se često koristi jer je biblioteka `pandas` optimizovana za rad po kolonama tabele.\n",
    "\n",
    "Tabela se transponuje tako što se na nju primeni funkcija `T` koja kao rezultat vraća novu, transponovanu tabelu.\n",
    "\n",
    "Evo primera sa ocenama:"
   ]
  },
  {
   "cell_type": "code",
   "execution_count": 16,
   "metadata": {},
   "outputs": [
    {
     "data": {
      "text/html": [
       "<div>\n",
       "<style scoped>\n",
       "    .dataframe tbody tr th:only-of-type {\n",
       "        vertical-align: middle;\n",
       "    }\n",
       "\n",
       "    .dataframe tbody tr th {\n",
       "        vertical-align: top;\n",
       "    }\n",
       "\n",
       "    .dataframe thead th {\n",
       "        text-align: right;\n",
       "    }\n",
       "</style>\n",
       "<table border=\"1\" class=\"dataframe\">\n",
       "  <thead>\n",
       "    <tr style=\"text-align: right;\">\n",
       "      <th></th>\n",
       "      <th>Informatika</th>\n",
       "      <th>Engleski</th>\n",
       "      <th>Matematika</th>\n",
       "      <th>Fizika</th>\n",
       "      <th>Hemija</th>\n",
       "      <th>Likovno</th>\n",
       "    </tr>\n",
       "    <tr>\n",
       "      <th>Ime</th>\n",
       "      <th></th>\n",
       "      <th></th>\n",
       "      <th></th>\n",
       "      <th></th>\n",
       "      <th></th>\n",
       "      <th></th>\n",
       "    </tr>\n",
       "  </thead>\n",
       "  <tbody>\n",
       "    <tr>\n",
       "      <th>Ana</th>\n",
       "      <td>5</td>\n",
       "      <td>3</td>\n",
       "      <td>5</td>\n",
       "      <td>2</td>\n",
       "      <td>4</td>\n",
       "      <td>5</td>\n",
       "    </tr>\n",
       "    <tr>\n",
       "      <th>Bojan</th>\n",
       "      <td>5</td>\n",
       "      <td>5</td>\n",
       "      <td>5</td>\n",
       "      <td>5</td>\n",
       "      <td>5</td>\n",
       "      <td>5</td>\n",
       "    </tr>\n",
       "    <tr>\n",
       "      <th>Vlada</th>\n",
       "      <td>4</td>\n",
       "      <td>5</td>\n",
       "      <td>3</td>\n",
       "      <td>4</td>\n",
       "      <td>5</td>\n",
       "      <td>4</td>\n",
       "    </tr>\n",
       "    <tr>\n",
       "      <th>Gordana</th>\n",
       "      <td>5</td>\n",
       "      <td>5</td>\n",
       "      <td>5</td>\n",
       "      <td>5</td>\n",
       "      <td>5</td>\n",
       "      <td>5</td>\n",
       "    </tr>\n",
       "    <tr>\n",
       "      <th>Dejan</th>\n",
       "      <td>3</td>\n",
       "      <td>4</td>\n",
       "      <td>2</td>\n",
       "      <td>3</td>\n",
       "      <td>3</td>\n",
       "      <td>4</td>\n",
       "    </tr>\n",
       "    <tr>\n",
       "      <th>Đorđe</th>\n",
       "      <td>4</td>\n",
       "      <td>5</td>\n",
       "      <td>3</td>\n",
       "      <td>4</td>\n",
       "      <td>5</td>\n",
       "      <td>4</td>\n",
       "    </tr>\n",
       "    <tr>\n",
       "      <th>Elena</th>\n",
       "      <td>3</td>\n",
       "      <td>3</td>\n",
       "      <td>3</td>\n",
       "      <td>4</td>\n",
       "      <td>2</td>\n",
       "      <td>3</td>\n",
       "    </tr>\n",
       "    <tr>\n",
       "      <th>Žaklina</th>\n",
       "      <td>5</td>\n",
       "      <td>5</td>\n",
       "      <td>4</td>\n",
       "      <td>5</td>\n",
       "      <td>4</td>\n",
       "      <td>5</td>\n",
       "    </tr>\n",
       "    <tr>\n",
       "      <th>Zoran</th>\n",
       "      <td>4</td>\n",
       "      <td>5</td>\n",
       "      <td>4</td>\n",
       "      <td>4</td>\n",
       "      <td>3</td>\n",
       "      <td>5</td>\n",
       "    </tr>\n",
       "    <tr>\n",
       "      <th>Ivana</th>\n",
       "      <td>2</td>\n",
       "      <td>2</td>\n",
       "      <td>2</td>\n",
       "      <td>2</td>\n",
       "      <td>2</td>\n",
       "      <td>5</td>\n",
       "    </tr>\n",
       "    <tr>\n",
       "      <th>Jasna</th>\n",
       "      <td>3</td>\n",
       "      <td>4</td>\n",
       "      <td>5</td>\n",
       "      <td>4</td>\n",
       "      <td>5</td>\n",
       "      <td>5</td>\n",
       "    </tr>\n",
       "  </tbody>\n",
       "</table>\n",
       "</div>"
      ],
      "text/plain": [
       "         Informatika  Engleski  Matematika  Fizika  Hemija  Likovno\n",
       "Ime                                                                \n",
       "Ana                5         3           5       2       4        5\n",
       "Bojan              5         5           5       5       5        5\n",
       "Vlada              4         5           3       4       5        4\n",
       "Gordana            5         5           5       5       5        5\n",
       "Dejan              3         4           2       3       3        4\n",
       "Đorđe              4         5           3       4       5        4\n",
       "Elena              3         3           3       4       2        3\n",
       "Žaklina            5         5           4       5       4        5\n",
       "Zoran              4         5           4       4       3        5\n",
       "Ivana              2         2           2       2       2        5\n",
       "Jasna              3         4           5       4       5        5"
      ]
     },
     "execution_count": 16,
     "metadata": {},
     "output_type": "execute_result"
    }
   ],
   "source": [
    "ocene1"
   ]
  },
  {
   "cell_type": "markdown",
   "metadata": {},
   "source": [
    "Transponovanu tabelu dobijamo ovako:"
   ]
  },
  {
   "cell_type": "code",
   "execution_count": 17,
   "metadata": {},
   "outputs": [],
   "source": [
    "ocene2 = ocene1.T"
   ]
  },
  {
   "cell_type": "code",
   "execution_count": 18,
   "metadata": {},
   "outputs": [
    {
     "data": {
      "text/html": [
       "<div>\n",
       "<style scoped>\n",
       "    .dataframe tbody tr th:only-of-type {\n",
       "        vertical-align: middle;\n",
       "    }\n",
       "\n",
       "    .dataframe tbody tr th {\n",
       "        vertical-align: top;\n",
       "    }\n",
       "\n",
       "    .dataframe thead th {\n",
       "        text-align: right;\n",
       "    }\n",
       "</style>\n",
       "<table border=\"1\" class=\"dataframe\">\n",
       "  <thead>\n",
       "    <tr style=\"text-align: right;\">\n",
       "      <th>Ime</th>\n",
       "      <th>Ana</th>\n",
       "      <th>Bojan</th>\n",
       "      <th>Vlada</th>\n",
       "      <th>Gordana</th>\n",
       "      <th>Dejan</th>\n",
       "      <th>Đorđe</th>\n",
       "      <th>Elena</th>\n",
       "      <th>Žaklina</th>\n",
       "      <th>Zoran</th>\n",
       "      <th>Ivana</th>\n",
       "      <th>Jasna</th>\n",
       "    </tr>\n",
       "  </thead>\n",
       "  <tbody>\n",
       "    <tr>\n",
       "      <th>Informatika</th>\n",
       "      <td>5</td>\n",
       "      <td>5</td>\n",
       "      <td>4</td>\n",
       "      <td>5</td>\n",
       "      <td>3</td>\n",
       "      <td>4</td>\n",
       "      <td>3</td>\n",
       "      <td>5</td>\n",
       "      <td>4</td>\n",
       "      <td>2</td>\n",
       "      <td>3</td>\n",
       "    </tr>\n",
       "    <tr>\n",
       "      <th>Engleski</th>\n",
       "      <td>3</td>\n",
       "      <td>5</td>\n",
       "      <td>5</td>\n",
       "      <td>5</td>\n",
       "      <td>4</td>\n",
       "      <td>5</td>\n",
       "      <td>3</td>\n",
       "      <td>5</td>\n",
       "      <td>5</td>\n",
       "      <td>2</td>\n",
       "      <td>4</td>\n",
       "    </tr>\n",
       "    <tr>\n",
       "      <th>Matematika</th>\n",
       "      <td>5</td>\n",
       "      <td>5</td>\n",
       "      <td>3</td>\n",
       "      <td>5</td>\n",
       "      <td>2</td>\n",
       "      <td>3</td>\n",
       "      <td>3</td>\n",
       "      <td>4</td>\n",
       "      <td>4</td>\n",
       "      <td>2</td>\n",
       "      <td>5</td>\n",
       "    </tr>\n",
       "    <tr>\n",
       "      <th>Fizika</th>\n",
       "      <td>2</td>\n",
       "      <td>5</td>\n",
       "      <td>4</td>\n",
       "      <td>5</td>\n",
       "      <td>3</td>\n",
       "      <td>4</td>\n",
       "      <td>4</td>\n",
       "      <td>5</td>\n",
       "      <td>4</td>\n",
       "      <td>2</td>\n",
       "      <td>4</td>\n",
       "    </tr>\n",
       "    <tr>\n",
       "      <th>Hemija</th>\n",
       "      <td>4</td>\n",
       "      <td>5</td>\n",
       "      <td>5</td>\n",
       "      <td>5</td>\n",
       "      <td>3</td>\n",
       "      <td>5</td>\n",
       "      <td>2</td>\n",
       "      <td>4</td>\n",
       "      <td>3</td>\n",
       "      <td>2</td>\n",
       "      <td>5</td>\n",
       "    </tr>\n",
       "    <tr>\n",
       "      <th>Likovno</th>\n",
       "      <td>5</td>\n",
       "      <td>5</td>\n",
       "      <td>4</td>\n",
       "      <td>5</td>\n",
       "      <td>4</td>\n",
       "      <td>4</td>\n",
       "      <td>3</td>\n",
       "      <td>5</td>\n",
       "      <td>5</td>\n",
       "      <td>5</td>\n",
       "      <td>5</td>\n",
       "    </tr>\n",
       "  </tbody>\n",
       "</table>\n",
       "</div>"
      ],
      "text/plain": [
       "Ime          Ana  Bojan  Vlada  Gordana  Dejan  Đorđe  Elena  Žaklina  Zoran  \\\n",
       "Informatika    5      5      4        5      3      4      3        5      4   \n",
       "Engleski       3      5      5        5      4      5      3        5      5   \n",
       "Matematika     5      5      3        5      2      3      3        4      4   \n",
       "Fizika         2      5      4        5      3      4      4        5      4   \n",
       "Hemija         4      5      5        5      3      5      2        4      3   \n",
       "Likovno        5      5      4        5      4      4      3        5      5   \n",
       "\n",
       "Ime          Ivana  Jasna  \n",
       "Informatika      2      3  \n",
       "Engleski         2      4  \n",
       "Matematika       2      5  \n",
       "Fizika           2      4  \n",
       "Hemija           2      5  \n",
       "Likovno          5      5  "
      ]
     },
     "execution_count": 18,
     "metadata": {},
     "output_type": "execute_result"
    }
   ],
   "source": [
    "ocene2"
   ]
  },
  {
   "cell_type": "markdown",
   "metadata": {},
   "source": [
    "Hajde još da se uverimo da su vrste i kolone zamenile mesta i u poljima `index` i `columns`. U polaznoj tabeli je:"
   ]
  },
  {
   "cell_type": "code",
   "execution_count": 19,
   "metadata": {},
   "outputs": [
    {
     "data": {
      "text/plain": [
       "Index(['Ana', 'Bojan', 'Vlada', 'Gordana', 'Dejan', 'Đorđe', 'Elena',\n",
       "       'Žaklina', 'Zoran', 'Ivana', 'Jasna'],\n",
       "      dtype='object', name='Ime')"
      ]
     },
     "execution_count": 19,
     "metadata": {},
     "output_type": "execute_result"
    }
   ],
   "source": [
    "ocene1.index"
   ]
  },
  {
   "cell_type": "code",
   "execution_count": 20,
   "metadata": {},
   "outputs": [
    {
     "data": {
      "text/plain": [
       "Index(['Informatika', 'Engleski', 'Matematika', 'Fizika', 'Hemija', 'Likovno'], dtype='object')"
      ]
     },
     "execution_count": 20,
     "metadata": {},
     "output_type": "execute_result"
    }
   ],
   "source": [
    "ocene1.columns"
   ]
  },
  {
   "cell_type": "markdown",
   "metadata": {},
   "source": [
    "A u transponovanoj tabeli je:"
   ]
  },
  {
   "cell_type": "code",
   "execution_count": 21,
   "metadata": {},
   "outputs": [
    {
     "data": {
      "text/plain": [
       "Index(['Informatika', 'Engleski', 'Matematika', 'Fizika', 'Hemija', 'Likovno'], dtype='object')"
      ]
     },
     "execution_count": 21,
     "metadata": {},
     "output_type": "execute_result"
    }
   ],
   "source": [
    "ocene2.index"
   ]
  },
  {
   "cell_type": "code",
   "execution_count": 22,
   "metadata": {},
   "outputs": [
    {
     "data": {
      "text/plain": [
       "Index(['Ana', 'Bojan', 'Vlada', 'Gordana', 'Dejan', 'Đorđe', 'Elena',\n",
       "       'Žaklina', 'Zoran', 'Ivana', 'Jasna'],\n",
       "      dtype='object', name='Ime')"
      ]
     },
     "execution_count": 22,
     "metadata": {},
     "output_type": "execute_result"
    }
   ],
   "source": [
    "ocene2.columns"
   ]
  },
  {
   "cell_type": "markdown",
   "metadata": {},
   "source": [
    "Kako smo ranije već videli, prosek ocena po predmetima dobijamo lako:"
   ]
  },
  {
   "cell_type": "code",
   "execution_count": 23,
   "metadata": {},
   "outputs": [
    {
     "name": "stdout",
     "output_type": "stream",
     "text": [
      "Informatika -> 3.91\n",
      "Engleski -> 4.18\n",
      "Matematika -> 3.73\n",
      "Fizika -> 3.82\n",
      "Hemija -> 3.91\n",
      "Likovno -> 4.55\n"
     ]
    }
   ],
   "source": [
    "for predmet in ocene1.columns:\n",
    "    print(predmet, \"->\", round(ocene1[predmet].mean(), 2))"
   ]
  },
  {
   "cell_type": "markdown",
   "metadata": {},
   "source": [
    "Da bismo dobili prosek ocena po učenicima, možemo da pristupimo vrstama tabele koristeći funkciju `loc` kako smo to već videli, ali možemo i da upotrebimo transponovanu tabelu (računanje proseka po kolonama, jer su kolone transponovane tabele zapravo vrste polazne tabele):"
   ]
  },
  {
   "cell_type": "code",
   "execution_count": 24,
   "metadata": {},
   "outputs": [
    {
     "name": "stdout",
     "output_type": "stream",
     "text": [
      "Ana -> 4.0\n",
      "Bojan -> 5.0\n",
      "Vlada -> 4.17\n",
      "Gordana -> 5.0\n",
      "Dejan -> 3.17\n",
      "Đorđe -> 4.17\n",
      "Elena -> 3.0\n",
      "Žaklina -> 4.67\n",
      "Zoran -> 4.17\n",
      "Ivana -> 2.5\n",
      "Jasna -> 4.33\n"
     ]
    }
   ],
   "source": [
    "for ucenik in ocene2.columns:\n",
    "    print(ucenik, \"->\", round(ocene2[ucenik].mean(), 2))"
   ]
  },
  {
   "cell_type": "markdown",
   "metadata": {},
   "source": [
    "## 7.5. Zadaci\n",
    "\n",
    "Zadatke reši u Džupajteru."
   ]
  },
  {
   "cell_type": "markdown",
   "metadata": {},
   "source": [
    "**Zadatak 1.** Pažljivo pogledaj ovaj Pajton program pa odgovori na pitanja koja slede:"
   ]
  },
  {
   "cell_type": "code",
   "execution_count": 25,
   "metadata": {},
   "outputs": [],
   "source": [
    "import pandas as pd\n",
    "podaci = [[\"Ana\",     \"ž\", 13, 46, 160],\n",
    "          [\"Bojan\",   \"m\", 14, 52, 165],\n",
    "          [\"Vlada\",   \"m\", 13, 47, 157],\n",
    "          [\"Gordana\", \"ž\", 15, 54, 165],\n",
    "          [\"Dejan\",   \"m\", 15, 56, 163],\n",
    "          [\"Đorđe\",   \"m\", 13, 45, 159],\n",
    "          [\"Elena\",   \"ž\", 14, 49, 161],\n",
    "          [\"Žaklina\", \"ž\", 15, 52, 164],\n",
    "          [\"Zoran\",   \"m\", 15, 57, 167],\n",
    "          [\"Ivana\",   \"ž\", 13, 45, 158],\n",
    "          [\"Jasna\",   \"ž\", 14, 51, 162]]\n",
    "tabela = pd.DataFrame(podaci)\n",
    "tabela.columns=[\"Ime\", \"Pol\", \"Starost\", \"Masa\", \"Visina\"]\n",
    "tabela1=tabela.set_index(\"Ime\")\n",
    "\n",
    "temp_anomalije = pd.read_csv(\"podaci/TemperaturneAnomalije.csv\", header=None)\n",
    "temp_anomalije1 = temp_anomalije.T\n",
    "temp_anomalije1.columns = [\"Godina\", \"Anomalija\"]"
   ]
  },
  {
   "cell_type": "markdown",
   "metadata": {},
   "source": [
    "1. U čemu je razlika između tabela `tabela` i `tabela1`?\n",
    "2. Šta predstavlja izraz `tabela1.index`?\n",
    "3. Šta je vrednost izraza `tabela1.loc[\"Đorđe\"]`?\n",
    "4. Šta je vrednost izraza `tabela1.loc[\"Đorđe\", \"Visina\"]`?\n",
    "5. Šta je vrednost izraza `tabela.loc[\"Đorđe\", \"Visina\"]`?\n",
    "6. Zašto smo na tabelu `temp_anomalije` primenili funkciju `T`?\n",
    "7. Koliko kolona ima tabela `temp_anomalije1`?"
   ]
  },
  {
   "cell_type": "markdown",
   "metadata": {},
   "source": [
    "**Zadatak 2.** Evo troškova života jedne porodice tokom jedne godine, po mesecima (svi iznosi su predstavljeni u dinarima):\n",
    "  \n",
    "  | Stavka | Jan | Feb | Mar | Apr | Maj | Jun | Jul | Avg | Sep | Okt | Nov | Dec |\n",
    "  |--------|-----|-----|-----|-----|-----|-----|-----|-----|-----|-----|-----|-----|\n",
    "  | Stanarina | 8.251 | 8.436 | 8.524 | 8.388 | 8.241 | 8.196 | 8.004 | 7.996 | 7.991 | 8.015 | 8.353 | 8.456 |\n",
    "  | Struja | 4.321 | 4.530 | 4.115 | 3.990 | 3.985 | 3.726 | 3.351 | 3.289 | 3.295 | 3.485 | 3.826 | 3.834 |\n",
    "  | Telefon (fiksni) | 1.425 | 1.538 | 1.623 | 1.489 | 1.521 | 1.485 | 1.491 | 1.399 | 1.467 | 1.531 | 1.410 | 1.385 |\n",
    "  | Telefon (mobilni) | 2.181 | 2.235 | 2.073 | 1.951 | 1.989 | 1.945 | 3.017 | 2.638 | 2.171 | 1.831 | 1.926 | 1.833 |\n",
    "  | TV i internet | 2.399 | 2.399 | 2.399 | 2.399 | 2.399 | 2.399 | 2.399 | 2.399 | 2.399 | 2.399 | 2.399 | 2.399  |\n",
    "  | Prevoz | 1.830 | 1.830 | 1.830 | 1.830 | 1.950 | 1.950 | 1.450 | 1.450 | 1.950 | 1.950 | 2.050 | 2.050 |\n",
    "  | Hrana | 23.250 | 23.780 | 24.019 | 24.117 | 24.389 | 24.571 | 24.736 | 24.951 | 25.111 | 25.389 | 25.531 | 25.923 |\n",
    "  | Ostalo | 4.500 | 3.700 | 5.100 | 3.500 | 2.750 | 4.250 | 7.320 | 8.250 | 3.270 | 4.290 | 3.200 | 8.390 |\n",
    "\n",
    "U ćeliji ispod su isti podaci predstavljeni listom:"
   ]
  },
  {
   "cell_type": "code",
   "execution_count": 26,
   "metadata": {},
   "outputs": [],
   "source": [
    "troskovi = [\n",
    "  [\"Stanarina\", 8251, 8436, 8524, 8388, 8241, 8196, 8004, 7996, 7991, 8015, 8353, 8456],\n",
    "  [\"Struja\", 4321, 4530, 4115, 3990, 3985, 3726, 3351, 3289, 3295, 3485, 3826, 3834],\n",
    "  [\"Telefon (fiksni)\", 1425, 1538, 1623, 1489, 1521, 1485, 1491, 1399, 1467, 1531, 1410, 1385],\n",
    "  [\"Telefon (mobilni)\", 2181, 2235, 2073, 1951, 1989, 1945, 3017, 2638, 2171, 1831, 1926, 1833],\n",
    "  [\"TV i internet\", 2399, 2399, 2399, 2399, 2399, 2399, 2399, 2399, 2399, 2399, 2399, 2399 ],\n",
    "  [\"Prevoz\", 1830, 1830, 1830, 1830, 1950, 1950, 1450, 1450, 1950, 1950, 2050, 2050],\n",
    "  [\"Hrana\", 23250, 23780, 24019, 24117, 24389, 24571, 24736, 24951, 25111, 25389, 25531, 25923],\n",
    "  [\"Ostalo\", 4500, 3700, 5100, 3500, 2750, 4250, 7320, 8250, 3270, 4290, 3200, 8390]\n",
    "]"
   ]
  },
  {
   "cell_type": "markdown",
   "metadata": {},
   "source": [
    "_(a)_ Predstavi tabelu strukturom _DataFrame_. Indeksiraj tabelu."
   ]
  },
  {
   "cell_type": "markdown",
   "metadata": {},
   "source": [
    "_(b)_ Izračunaj i ispiši _prosečnu_ potrošnju ove porodice po stavkama (koliko je porodica prosečno potrošila na stanarinu, koliko na struju, itd)."
   ]
  },
  {
   "cell_type": "markdown",
   "metadata": {},
   "source": [
    "**Zadatak 3.** Učenici osmog razreda jedne škole su anketirani o tome koju vrstu filmova najradije gledaju. Podaci ankete su dati u sledećoj tabeli (u koju nisu uneti nevažeći i besmisleni odgovori):\n",
    "\n",
    "| Žanr | 8-1 | 8-2 | 8-3 | 8-4 | 8-5 |\n",
    "|------|-----|-----|-----|-----|-----|\n",
    "| Komedija | 4 | 3 | 5 | 2 | 3 |\n",
    "| Horor | 1 | 0 | 2 | 1 | 6 |\n",
    "| Naučna fantastika | 10 | 7 | 9 | 8 | 9 |\n",
    "| Avanture | 4 | 3 | 4 | 2 | 2 |\n",
    "| Istorijski | 1 | 0 | 2 | 0 | 0 |\n",
    "| Romantični | 11 | 10 | 7 | 9 | 8 |"
   ]
  },
  {
   "cell_type": "markdown",
   "metadata": {},
   "source": [
    "_(a)_ Formiraj odgovarajuću tabelu pozivom funkcije _DataFrame_. Indeksiraj tabelu kolonom \"Žanr\"."
   ]
  },
  {
   "cell_type": "markdown",
   "metadata": {},
   "source": [
    "_(b)_ Izračunaj i ispiši koliko glasova je dobio svaki od navedenih žanrova."
   ]
  },
  {
   "cell_type": "markdown",
   "metadata": {},
   "source": [
    "_(v)_ Za svako odeljenje izračunaj i ispiši koliko je bilo validnih glasova."
   ]
  },
  {
   "cell_type": "markdown",
   "metadata": {},
   "source": [
    "_(g)_ Koliko je ukupno učenika osmih razreda učestvovalo u anketiranju? (Računamo samo učenike koji su dali validne odgovore na anketu.)"
   ]
  },
  {
   "cell_type": "markdown",
   "metadata": {},
   "source": [
    "**Zadatak 4.** Nutritivni podaci za neke namirnice su dati u sledećoj tabeli:\n",
    "\n",
    "| Namirnica (100g) | Energetska vrednost (kcal) | Ugljeni hidrati (g) | Belančevine (g) | Masti (g) |\n",
    "|--|--|--|--|--|\n",
    "| Crni hleb | 250 | 48,2 | 8,4 | 1,0 |\n",
    "| Beli hleb | 280 | 57,5 | 6,8 | 0,5 |\n",
    "| Kisela pavlaka (10% m.m.) | 127 | 4,0 | 3,1 | 10,5 |\n",
    "| Margarin | 532 | 4,6 | 3,2 | 1,5 |\n",
    "| Jogurt | 48 | 4,7 | 4,0 | 3,3 |\n",
    "| Mleko (2,8% m.m.) | 57 | 4,7 | 3,3 | 2,8 |\n",
    "| Salama parizer | 523 | 1,0 | 17,0 | 47,0 |\n",
    "| Pršuta | 268 | 0,0 | 25,5 | 18,4 |\n",
    "| Pileća prsa | 110 | 0,0 | 23,1 | 1,2 |\n",
    "\n",
    "U ćeliji ispod ovi podaci su pripremljeni u obliku indeksirane _DataFrame_ strukture (sa skraćenim imenima):"
   ]
  },
  {
   "cell_type": "code",
   "execution_count": 27,
   "metadata": {},
   "outputs": [],
   "source": [
    "namirnice = pd.DataFrame([\n",
    "    [\"Chleb\", 250, 48.2, 8.4, 1.0],\n",
    "    [\"Bhleb\", 280, 57.5, 6.8, 0.5],\n",
    "    [\"Pavlaka\", 127, 4.0, 3.1, 10.5],\n",
    "    [\"Margarin\", 532, 4.6, 3.2, 1.5],\n",
    "    [\"Jogurt\", 48, 4.7, 4.0, 3.3],\n",
    "    [\"Mleko\", 57, 4.7, 3.3, 2.8],\n",
    "    [\"Parizer\", 523, 1.0, 17.0, 47.0],\n",
    "    [\"Pršuta\", 268, 0.0, 25.5, 18.4],\n",
    "    [\"PilPrsa\", 110, 0.0, 23.1, 1.2]])\n",
    "namirnice.columns=[\"Namirnica\", \"EnergVr\", \"UH\", \"Bel\", \"Masti\"]\n",
    "namirnice1 = namirnice.set_index(\"Namirnica\")"
   ]
  },
  {
   "cell_type": "markdown",
   "metadata": {},
   "source": [
    "_(a)_ Miloš je za doručak pojeo dva parčeta belog hleba i popio šolju mleka. Svako parče hleba je bilo namazano pavlakom i imalo je jedan šnit pršute. Kolika je energetska vrednost Miloševog doručka (u kcal), ako pretpostavimo da jedno parče hleba ima 100 g, da je za mazanje jednog parčeta hleba dovoljno 10 g premaza, da jedan šnit pršute ima 20g i da šolja mleka ima 2 dl (što je približno 200 g)?"
   ]
  },
  {
   "cell_type": "markdown",
   "metadata": {},
   "source": [
    "_(b)_ Koliko grama masti je bilo u Miloševom doručku?"
   ]
  },
  {
   "cell_type": "markdown",
   "metadata": {},
   "source": [
    "_(v)_ Prikaži dijagramom količinu ugljenih hidrata u namirnicama navedenim u tabeli."
   ]
  },
  {
   "cell_type": "markdown",
   "metadata": {},
   "source": [
    "**Zadatak 5.** U folderu _podaci_ se nalazi datoteka _TemperaturneAnomalije.csv_ koja sadrži podatke o tome za koliko stepeni Celzijusa je srednja izmerena temperatura na Zemlji veća od optimalne u poslednjih 40 godina. Ova tabela ima dva dugačka reda koji izgledaju ovako:\n",
    "\n",
    "    1977,1978,1979,1980,1981,...\n",
    "    0.22,0.14,0.15,0.3,0.37,...\n",
    "\n",
    "U prvom redu se nalaze godine (1977-2017), a u drugom izmerena temperaturna anomalija. Tabela nema zaglavlje.\n",
    "\n",
    "_(a)_ Učitaj tabelu u strukturu _DataFrame_ koristeći funkciju `read_csv` iz biblioteke `pandas`. (Napomena: kada tabela nema zagravlje u funkciji za učitavanje treba navesti opciju `header=None`.)"
   ]
  },
  {
   "cell_type": "code",
   "execution_count": null,
   "metadata": {},
   "outputs": [],
   "source": []
  },
  {
   "cell_type": "markdown",
   "metadata": {},
   "source": [
    "_(b)_ Transponuj tabelu i koloname transponovane tabele nazovi \"Godina\" i \"Anomalija\"."
   ]
  },
  {
   "cell_type": "code",
   "execution_count": null,
   "metadata": {},
   "outputs": [],
   "source": []
  },
  {
   "cell_type": "markdown",
   "metadata": {},
   "source": [
    "_(v)_ Indeksiraj tabelu kolonom \"Godina\"."
   ]
  },
  {
   "cell_type": "code",
   "execution_count": null,
   "metadata": {},
   "outputs": [],
   "source": []
  },
  {
   "cell_type": "markdown",
   "metadata": {},
   "source": [
    "_(g)_ Prikaži temperaturne anomalije dijagramom."
   ]
  },
  {
   "cell_type": "code",
   "execution_count": null,
   "metadata": {},
   "outputs": [],
   "source": []
  },
  {
   "cell_type": "markdown",
   "metadata": {},
   "source": [
    "**Zadatak 6.** U folderu _podaci_ se nalazi datoteka _StanovnistvoSrbije2017.csv_ (koja ima zaglavlje). Tabela ima tri kolone koje se zovu \"Starost\", \"M\" i \"Ž\".\n",
    "\n",
    "_(a)_ Učitaj datoteku u strukturu podataka _DataFrame_ i indeksiraj tabelu kolonom \"Starost\"."
   ]
  },
  {
   "cell_type": "code",
   "execution_count": null,
   "metadata": {},
   "outputs": [],
   "source": []
  },
  {
   "cell_type": "markdown",
   "metadata": {},
   "source": [
    "_(b)_ Prikaži procenjeni broj muškaraca i žena po starosti linijskim dijagramom."
   ]
  },
  {
   "cell_type": "code",
   "execution_count": null,
   "metadata": {},
   "outputs": [],
   "source": []
  },
  {
   "cell_type": "markdown",
   "metadata": {},
   "source": [
    "_(v)_ Na osnovu podataka iz tabele izračunaj koliki je procenjeni broj stanovnika u sledećim starosnim grupama:\n",
    "\n",
    "* 0--17 godina,\n",
    "* 18--65 godina, i\n",
    "* 66 i više godina,\n",
    "\n",
    "i predstavi ova tri podatka sektorskim dijagramom. (Uputstvo: sledeći izraz može biti od pomoći: `tabela.loc[\"0\":\"17\", \"M\":\"Ž\"]`)"
   ]
  },
  {
   "cell_type": "code",
   "execution_count": null,
   "metadata": {},
   "outputs": [],
   "source": []
  },
  {
   "cell_type": "markdown",
   "metadata": {},
   "source": [
    "**Zadatak 7.** U tabeli ispod su dati podaci o prodaji nekih proizvoda u pet poslovnih jedinica jedne kompanije (brojevi predstavljaju broj prodatih komada u jednom mesecu):\n",
    "\n",
    "| Proizvod       | PJ1 | PJ2 | PJ3 | PJ4 | PJ5 |\n",
    "|----------------|-----|-----|-----|-----|-----|\n",
    "| Cipele         |  5  | 17  |  3  | 11  |  9  |\n",
    "| Košulja         |  8  |  6  |  7  |  4  |  0  |\n",
    "| Kaiš           |  4  |  1  |  3  |  5  |  1  |\n",
    "| Pantalone      |  4  |  2  |  6  |  4  |  5  |\n",
    "| Čarape (par)   |  8  |  9  |  7  |  4  |  9  |\n",
    "| Kravata        |  1  |  0  |  3  |  2  |  4  |\n",
    "\n",
    "Sledeća tabela sadrži cene ovih proizvoda u dinarima:\n",
    "\n",
    "| Proizvod       | Cena (din) |\n",
    "|----------------|------------|\n",
    "| Cipele         |  11.250  |\n",
    "| Košulja         |   6.500  |\n",
    "| Kaiš           |   4.750  |\n",
    "| Pantalone      |   2.500  |\n",
    "| Čarape (par)   |     750  |\n",
    "| Kravata        |   3.500  |\n",
    "\n",
    "Ćelija ispod sadrži podatke iz ove dve tabele predstavljene u obliku liste:"
   ]
  },
  {
   "cell_type": "code",
   "execution_count": 28,
   "metadata": {},
   "outputs": [],
   "source": [
    "proizvodi = [\n",
    "    [\"Cipele\",         5, 17,  3, 11,  9],\n",
    "    [\"Košulja\",         8,  6,  7,  4,  0],\n",
    "    [\"Kaiš\",           4,  1,  3,  5,  1],\n",
    "    [\"Pantalone\",      4,  2,  6,  4,  5],\n",
    "    [\"Čarape (par)\",   8,  9,  7,  4,  9],\n",
    "    [\"Kravata\",        1,  0,  3,  2,  4]]\n",
    "cene = [\n",
    "    [\"Cipele\",         11250],\n",
    "    [\"Košulja\",          6500],\n",
    "    [\"Kaiš\",            4750],\n",
    "    [\"Pantalone\",       2500],\n",
    "    [\"Čarape (par)\",     750],\n",
    "    [\"Kravata\",         3500]]"
   ]
  },
  {
   "cell_type": "markdown",
   "metadata": {},
   "source": [
    "_(a)_ Predstavi obe tabele strukturom _DataFrame_. Indeksiraj obe tabele."
   ]
  },
  {
   "cell_type": "markdown",
   "metadata": {},
   "source": [
    "_(b)_ Izračunaj koliko je ukupno u tom mesecu prodato cipela, košulja, kaiševa, pantalona, čarapa i kravata."
   ]
  },
  {
   "cell_type": "markdown",
   "metadata": {},
   "source": [
    "_(v)_ Izračunaj koliko je u tom mesecu kompanija zaradila na prodaji cipela, koliko na prodaji košulja, koliko na prodaji kaiševa, itd."
   ]
  },
  {
   "cell_type": "markdown",
   "metadata": {},
   "source": [
    "_(g*)_ Izračunaj i ispiši zaradu svake poslovne jedinice u tom mesecu."
   ]
  },
  {
   "cell_type": "code",
   "execution_count": null,
   "metadata": {},
   "outputs": [],
   "source": []
  }
 ],
 "metadata": {
  "kernelspec": {
   "display_name": "Python 3",
   "language": "python",
   "name": "python3"
  },
  "language_info": {
   "codemirror_mode": {
    "name": "ipython",
    "version": 3
   },
   "file_extension": ".py",
   "mimetype": "text/x-python",
   "name": "python",
   "nbconvert_exporter": "python",
   "pygments_lexer": "ipython3",
   "version": "3.7.1"
  }
 },
 "nbformat": 4,
 "nbformat_minor": 2
}
